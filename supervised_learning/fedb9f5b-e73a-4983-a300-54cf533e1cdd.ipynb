{
 "cells": [
  {
   "cell_type": "markdown",
   "metadata": {
    "tags": [],
    "toc": true
   },
   "source": [
    "<h1>Содержание<span class=\"tocSkip\"></span></h1>\n",
    "<div class=\"toc\"><ul class=\"toc-item\"><li><span><a href=\"#Подготовка-данных\" data-toc-modified-id=\"Подготовка-данных-1\"><span class=\"toc-item-num\">1&nbsp;&nbsp;</span>Подготовка данных</a></span></li><li><span><a href=\"#Исследование-задачи\" data-toc-modified-id=\"Исследование-задачи-2\"><span class=\"toc-item-num\">2&nbsp;&nbsp;</span>Исследование задачи</a></span></li><li><span><a href=\"#Борьба-с-дисбалансом\" data-toc-modified-id=\"Борьба-с-дисбалансом-3\"><span class=\"toc-item-num\">3&nbsp;&nbsp;</span>Борьба с дисбалансом</a></span></li><li><span><a href=\"#Тестирование-модели\" data-toc-modified-id=\"Тестирование-модели-4\"><span class=\"toc-item-num\">4&nbsp;&nbsp;</span>Тестирование модели</a></span></li></ul></div>"
   ]
  },
  {
   "cell_type": "markdown",
   "metadata": {
    "tags": []
   },
   "source": [
    "# Отток клиентов"
   ]
  },
  {
   "cell_type": "markdown",
   "metadata": {},
   "source": [
    "Из «Бета-Банка» стали уходить клиенты. Каждый месяц. Немного, но заметно. Банковские маркетологи посчитали: сохранять текущих клиентов дешевле, чем привлекать новых.\n",
    "\n",
    "Нужно спрогнозировать, уйдёт клиент из банка в ближайшее время или нет. Вам предоставлены исторические данные о поведении клиентов и расторжении договоров с банком. \n",
    "\n",
    "Постройте модель с предельно большим значением *F1*-меры. Чтобы сдать проект успешно, нужно довести метрику до 0.59. Проверьте *F1*-меру на тестовой выборке самостоятельно.\n",
    "\n",
    "Дополнительно измеряйте *AUC-ROC*, сравнивайте её значение с *F1*-мерой.\n",
    "\n",
    "Источник данных: [https://www.kaggle.com/barelydedicated/bank-customer-churn-modeling](https://www.kaggle.com/barelydedicated/bank-customer-churn-modeling)"
   ]
  },
  {
   "cell_type": "markdown",
   "metadata": {},
   "source": [
    "Итак, в данном проекте у нас представлены данные о клиентах банка с рядом персонифицированных признаков.\n",
    "Целью данного проекта является прогнозирование ухода (в близжайшее время) клиента по имеющимся данным.\n",
    "В целом план работ по данному проекту представляется целесообразным составить следующим образом:\n",
    "* первичный обзор данных;\n",
    "* подготовка данных, включая поиск дубликатов, преобразование типов данных и отсутствующих значений;\n",
    "* преобразование категориальных переменных, а также осуществление масштабирования вещественных переменных;\n",
    "* первичное применение моделей машинного обучения и обзор результатов;\n",
    "* (при необходимости) корректировка вышеуказанных действий."
   ]
  },
  {
   "cell_type": "markdown",
   "metadata": {},
   "source": [
    "## Подготовка данных"
   ]
  },
  {
   "cell_type": "code",
   "execution_count": 1,
   "metadata": {},
   "outputs": [
    {
     "data": {
      "text/html": [
       "<div>\n",
       "<style scoped>\n",
       "    .dataframe tbody tr th:only-of-type {\n",
       "        vertical-align: middle;\n",
       "    }\n",
       "\n",
       "    .dataframe tbody tr th {\n",
       "        vertical-align: top;\n",
       "    }\n",
       "\n",
       "    .dataframe thead th {\n",
       "        text-align: right;\n",
       "    }\n",
       "</style>\n",
       "<table border=\"1\" class=\"dataframe\">\n",
       "  <thead>\n",
       "    <tr style=\"text-align: right;\">\n",
       "      <th></th>\n",
       "      <th></th>\n",
       "      <th>CreditScore</th>\n",
       "      <th>Geography</th>\n",
       "      <th>Gender</th>\n",
       "      <th>Age</th>\n",
       "      <th>Tenure</th>\n",
       "      <th>Balance</th>\n",
       "      <th>NumOfProducts</th>\n",
       "      <th>HasCrCard</th>\n",
       "      <th>IsActiveMember</th>\n",
       "      <th>EstimatedSalary</th>\n",
       "      <th>Exited</th>\n",
       "    </tr>\n",
       "    <tr>\n",
       "      <th>RowNumber</th>\n",
       "      <th>CustomerId</th>\n",
       "      <th></th>\n",
       "      <th></th>\n",
       "      <th></th>\n",
       "      <th></th>\n",
       "      <th></th>\n",
       "      <th></th>\n",
       "      <th></th>\n",
       "      <th></th>\n",
       "      <th></th>\n",
       "      <th></th>\n",
       "      <th></th>\n",
       "    </tr>\n",
       "  </thead>\n",
       "  <tbody>\n",
       "    <tr>\n",
       "      <th>1</th>\n",
       "      <th>15634602</th>\n",
       "      <td>619</td>\n",
       "      <td>France</td>\n",
       "      <td>Female</td>\n",
       "      <td>42</td>\n",
       "      <td>2.0</td>\n",
       "      <td>0.00</td>\n",
       "      <td>1</td>\n",
       "      <td>1</td>\n",
       "      <td>1</td>\n",
       "      <td>101348.88</td>\n",
       "      <td>1</td>\n",
       "    </tr>\n",
       "    <tr>\n",
       "      <th>2</th>\n",
       "      <th>15647311</th>\n",
       "      <td>608</td>\n",
       "      <td>Spain</td>\n",
       "      <td>Female</td>\n",
       "      <td>41</td>\n",
       "      <td>1.0</td>\n",
       "      <td>83807.86</td>\n",
       "      <td>1</td>\n",
       "      <td>0</td>\n",
       "      <td>1</td>\n",
       "      <td>112542.58</td>\n",
       "      <td>0</td>\n",
       "    </tr>\n",
       "    <tr>\n",
       "      <th>3</th>\n",
       "      <th>15619304</th>\n",
       "      <td>502</td>\n",
       "      <td>France</td>\n",
       "      <td>Female</td>\n",
       "      <td>42</td>\n",
       "      <td>8.0</td>\n",
       "      <td>159660.80</td>\n",
       "      <td>3</td>\n",
       "      <td>1</td>\n",
       "      <td>0</td>\n",
       "      <td>113931.57</td>\n",
       "      <td>1</td>\n",
       "    </tr>\n",
       "    <tr>\n",
       "      <th>4</th>\n",
       "      <th>15701354</th>\n",
       "      <td>699</td>\n",
       "      <td>France</td>\n",
       "      <td>Female</td>\n",
       "      <td>39</td>\n",
       "      <td>1.0</td>\n",
       "      <td>0.00</td>\n",
       "      <td>2</td>\n",
       "      <td>0</td>\n",
       "      <td>0</td>\n",
       "      <td>93826.63</td>\n",
       "      <td>0</td>\n",
       "    </tr>\n",
       "    <tr>\n",
       "      <th>5</th>\n",
       "      <th>15737888</th>\n",
       "      <td>850</td>\n",
       "      <td>Spain</td>\n",
       "      <td>Female</td>\n",
       "      <td>43</td>\n",
       "      <td>2.0</td>\n",
       "      <td>125510.82</td>\n",
       "      <td>1</td>\n",
       "      <td>1</td>\n",
       "      <td>1</td>\n",
       "      <td>79084.10</td>\n",
       "      <td>0</td>\n",
       "    </tr>\n",
       "  </tbody>\n",
       "</table>\n",
       "</div>"
      ],
      "text/plain": [
       "                      CreditScore Geography  Gender  Age  Tenure    Balance  \\\n",
       "RowNumber CustomerId                                                          \n",
       "1         15634602            619    France  Female   42     2.0       0.00   \n",
       "2         15647311            608     Spain  Female   41     1.0   83807.86   \n",
       "3         15619304            502    France  Female   42     8.0  159660.80   \n",
       "4         15701354            699    France  Female   39     1.0       0.00   \n",
       "5         15737888            850     Spain  Female   43     2.0  125510.82   \n",
       "\n",
       "                      NumOfProducts  HasCrCard  IsActiveMember  \\\n",
       "RowNumber CustomerId                                             \n",
       "1         15634602                1          1               1   \n",
       "2         15647311                1          0               1   \n",
       "3         15619304                3          1               0   \n",
       "4         15701354                2          0               0   \n",
       "5         15737888                1          1               1   \n",
       "\n",
       "                      EstimatedSalary  Exited  \n",
       "RowNumber CustomerId                           \n",
       "1         15634602          101348.88       1  \n",
       "2         15647311          112542.58       0  \n",
       "3         15619304          113931.57       1  \n",
       "4         15701354           93826.63       0  \n",
       "5         15737888           79084.10       0  "
      ]
     },
     "execution_count": 1,
     "metadata": {},
     "output_type": "execute_result"
    }
   ],
   "source": [
    "import numpy as np\n",
    "import pandas as pd\n",
    "import matplotlib.pyplot as plt\n",
    "import seaborn as sns \n",
    "import random\n",
    "from sklearn.preprocessing import StandardScaler\n",
    "from sklearn.model_selection import train_test_split, GridSearchCV\n",
    "from sklearn.linear_model import LogisticRegression, SGDClassifier\n",
    "from sklearn.tree import DecisionTreeClassifier\n",
    "from sklearn.ensemble import RandomForestClassifier, AdaBoostClassifier\n",
    "from sklearn.metrics import f1_score, roc_auc_score, plot_roc_curve\n",
    "from sklearn.utils import shuffle\n",
    "from sklearn.ensemble import GradientBoostingClassifier\n",
    "\n",
    "import warnings\n",
    "warnings.filterwarnings(\"ignore\")\n",
    "\n",
    "df = pd.read_csv('Churn.csv', index_col=['RowNumber', 'CustomerId'])\n",
    "df.drop('Surname', axis=1, inplace=True) # уберем фамилию как несущественную переменную\n",
    "# столбец RowNumber, очевидно, не несет в себе информационной нагрузки в данном случае,\n",
    "# однако, учитывая, что все значения в CustomerId - уникальны,\n",
    "# то указанное выше - справедливо и для него\n",
    "df.head()"
   ]
  },
  {
   "cell_type": "code",
   "execution_count": 2,
   "metadata": {},
   "outputs": [
    {
     "data": {
      "text/html": [
       "<div>\n",
       "<style scoped>\n",
       "    .dataframe tbody tr th:only-of-type {\n",
       "        vertical-align: middle;\n",
       "    }\n",
       "\n",
       "    .dataframe tbody tr th {\n",
       "        vertical-align: top;\n",
       "    }\n",
       "\n",
       "    .dataframe thead th {\n",
       "        text-align: right;\n",
       "    }\n",
       "</style>\n",
       "<table border=\"1\" class=\"dataframe\">\n",
       "  <thead>\n",
       "    <tr style=\"text-align: right;\">\n",
       "      <th></th>\n",
       "      <th>CreditScore</th>\n",
       "      <th>Geography</th>\n",
       "      <th>Gender</th>\n",
       "      <th>Age</th>\n",
       "      <th>Tenure</th>\n",
       "      <th>Balance</th>\n",
       "      <th>NumOfProducts</th>\n",
       "      <th>HasCrCard</th>\n",
       "      <th>IsActiveMember</th>\n",
       "      <th>EstimatedSalary</th>\n",
       "      <th>Exited</th>\n",
       "    </tr>\n",
       "  </thead>\n",
       "  <tbody>\n",
       "    <tr>\n",
       "      <th>count</th>\n",
       "      <td>10000.000000</td>\n",
       "      <td>10000</td>\n",
       "      <td>10000</td>\n",
       "      <td>10000.000000</td>\n",
       "      <td>9091.000000</td>\n",
       "      <td>10000.000000</td>\n",
       "      <td>10000.000000</td>\n",
       "      <td>10000.00000</td>\n",
       "      <td>10000.000000</td>\n",
       "      <td>10000.000000</td>\n",
       "      <td>10000.000000</td>\n",
       "    </tr>\n",
       "    <tr>\n",
       "      <th>unique</th>\n",
       "      <td>NaN</td>\n",
       "      <td>3</td>\n",
       "      <td>2</td>\n",
       "      <td>NaN</td>\n",
       "      <td>NaN</td>\n",
       "      <td>NaN</td>\n",
       "      <td>NaN</td>\n",
       "      <td>NaN</td>\n",
       "      <td>NaN</td>\n",
       "      <td>NaN</td>\n",
       "      <td>NaN</td>\n",
       "    </tr>\n",
       "    <tr>\n",
       "      <th>top</th>\n",
       "      <td>NaN</td>\n",
       "      <td>France</td>\n",
       "      <td>Male</td>\n",
       "      <td>NaN</td>\n",
       "      <td>NaN</td>\n",
       "      <td>NaN</td>\n",
       "      <td>NaN</td>\n",
       "      <td>NaN</td>\n",
       "      <td>NaN</td>\n",
       "      <td>NaN</td>\n",
       "      <td>NaN</td>\n",
       "    </tr>\n",
       "    <tr>\n",
       "      <th>freq</th>\n",
       "      <td>NaN</td>\n",
       "      <td>5014</td>\n",
       "      <td>5457</td>\n",
       "      <td>NaN</td>\n",
       "      <td>NaN</td>\n",
       "      <td>NaN</td>\n",
       "      <td>NaN</td>\n",
       "      <td>NaN</td>\n",
       "      <td>NaN</td>\n",
       "      <td>NaN</td>\n",
       "      <td>NaN</td>\n",
       "    </tr>\n",
       "    <tr>\n",
       "      <th>mean</th>\n",
       "      <td>650.528800</td>\n",
       "      <td>NaN</td>\n",
       "      <td>NaN</td>\n",
       "      <td>38.921800</td>\n",
       "      <td>4.997690</td>\n",
       "      <td>76485.889288</td>\n",
       "      <td>1.530200</td>\n",
       "      <td>0.70550</td>\n",
       "      <td>0.515100</td>\n",
       "      <td>100090.239881</td>\n",
       "      <td>0.203700</td>\n",
       "    </tr>\n",
       "    <tr>\n",
       "      <th>std</th>\n",
       "      <td>96.653299</td>\n",
       "      <td>NaN</td>\n",
       "      <td>NaN</td>\n",
       "      <td>10.487806</td>\n",
       "      <td>2.894723</td>\n",
       "      <td>62397.405202</td>\n",
       "      <td>0.581654</td>\n",
       "      <td>0.45584</td>\n",
       "      <td>0.499797</td>\n",
       "      <td>57510.492818</td>\n",
       "      <td>0.402769</td>\n",
       "    </tr>\n",
       "    <tr>\n",
       "      <th>min</th>\n",
       "      <td>350.000000</td>\n",
       "      <td>NaN</td>\n",
       "      <td>NaN</td>\n",
       "      <td>18.000000</td>\n",
       "      <td>0.000000</td>\n",
       "      <td>0.000000</td>\n",
       "      <td>1.000000</td>\n",
       "      <td>0.00000</td>\n",
       "      <td>0.000000</td>\n",
       "      <td>11.580000</td>\n",
       "      <td>0.000000</td>\n",
       "    </tr>\n",
       "    <tr>\n",
       "      <th>25%</th>\n",
       "      <td>584.000000</td>\n",
       "      <td>NaN</td>\n",
       "      <td>NaN</td>\n",
       "      <td>32.000000</td>\n",
       "      <td>2.000000</td>\n",
       "      <td>0.000000</td>\n",
       "      <td>1.000000</td>\n",
       "      <td>0.00000</td>\n",
       "      <td>0.000000</td>\n",
       "      <td>51002.110000</td>\n",
       "      <td>0.000000</td>\n",
       "    </tr>\n",
       "    <tr>\n",
       "      <th>50%</th>\n",
       "      <td>652.000000</td>\n",
       "      <td>NaN</td>\n",
       "      <td>NaN</td>\n",
       "      <td>37.000000</td>\n",
       "      <td>5.000000</td>\n",
       "      <td>97198.540000</td>\n",
       "      <td>1.000000</td>\n",
       "      <td>1.00000</td>\n",
       "      <td>1.000000</td>\n",
       "      <td>100193.915000</td>\n",
       "      <td>0.000000</td>\n",
       "    </tr>\n",
       "    <tr>\n",
       "      <th>75%</th>\n",
       "      <td>718.000000</td>\n",
       "      <td>NaN</td>\n",
       "      <td>NaN</td>\n",
       "      <td>44.000000</td>\n",
       "      <td>7.000000</td>\n",
       "      <td>127644.240000</td>\n",
       "      <td>2.000000</td>\n",
       "      <td>1.00000</td>\n",
       "      <td>1.000000</td>\n",
       "      <td>149388.247500</td>\n",
       "      <td>0.000000</td>\n",
       "    </tr>\n",
       "    <tr>\n",
       "      <th>max</th>\n",
       "      <td>850.000000</td>\n",
       "      <td>NaN</td>\n",
       "      <td>NaN</td>\n",
       "      <td>92.000000</td>\n",
       "      <td>10.000000</td>\n",
       "      <td>250898.090000</td>\n",
       "      <td>4.000000</td>\n",
       "      <td>1.00000</td>\n",
       "      <td>1.000000</td>\n",
       "      <td>199992.480000</td>\n",
       "      <td>1.000000</td>\n",
       "    </tr>\n",
       "  </tbody>\n",
       "</table>\n",
       "</div>"
      ],
      "text/plain": [
       "         CreditScore Geography Gender           Age       Tenure  \\\n",
       "count   10000.000000     10000  10000  10000.000000  9091.000000   \n",
       "unique           NaN         3      2           NaN          NaN   \n",
       "top              NaN    France   Male           NaN          NaN   \n",
       "freq             NaN      5014   5457           NaN          NaN   \n",
       "mean      650.528800       NaN    NaN     38.921800     4.997690   \n",
       "std        96.653299       NaN    NaN     10.487806     2.894723   \n",
       "min       350.000000       NaN    NaN     18.000000     0.000000   \n",
       "25%       584.000000       NaN    NaN     32.000000     2.000000   \n",
       "50%       652.000000       NaN    NaN     37.000000     5.000000   \n",
       "75%       718.000000       NaN    NaN     44.000000     7.000000   \n",
       "max       850.000000       NaN    NaN     92.000000    10.000000   \n",
       "\n",
       "              Balance  NumOfProducts    HasCrCard  IsActiveMember  \\\n",
       "count    10000.000000   10000.000000  10000.00000    10000.000000   \n",
       "unique            NaN            NaN          NaN             NaN   \n",
       "top               NaN            NaN          NaN             NaN   \n",
       "freq              NaN            NaN          NaN             NaN   \n",
       "mean     76485.889288       1.530200      0.70550        0.515100   \n",
       "std      62397.405202       0.581654      0.45584        0.499797   \n",
       "min          0.000000       1.000000      0.00000        0.000000   \n",
       "25%          0.000000       1.000000      0.00000        0.000000   \n",
       "50%      97198.540000       1.000000      1.00000        1.000000   \n",
       "75%     127644.240000       2.000000      1.00000        1.000000   \n",
       "max     250898.090000       4.000000      1.00000        1.000000   \n",
       "\n",
       "        EstimatedSalary        Exited  \n",
       "count      10000.000000  10000.000000  \n",
       "unique              NaN           NaN  \n",
       "top                 NaN           NaN  \n",
       "freq                NaN           NaN  \n",
       "mean      100090.239881      0.203700  \n",
       "std        57510.492818      0.402769  \n",
       "min           11.580000      0.000000  \n",
       "25%        51002.110000      0.000000  \n",
       "50%       100193.915000      0.000000  \n",
       "75%       149388.247500      0.000000  \n",
       "max       199992.480000      1.000000  "
      ]
     },
     "execution_count": 2,
     "metadata": {},
     "output_type": "execute_result"
    }
   ],
   "source": [
    "df.describe(include='all')"
   ]
  },
  {
   "cell_type": "code",
   "execution_count": 3,
   "metadata": {},
   "outputs": [
    {
     "data": {
      "text/plain": [
       "0"
      ]
     },
     "execution_count": 3,
     "metadata": {},
     "output_type": "execute_result"
    }
   ],
   "source": [
    "df.duplicated().sum()"
   ]
  },
  {
   "cell_type": "code",
   "execution_count": 4,
   "metadata": {},
   "outputs": [
    {
     "name": "stdout",
     "output_type": "stream",
     "text": [
      "<class 'pandas.core.frame.DataFrame'>\n",
      "MultiIndex: 10000 entries, (1, 15634602) to (10000, 15628319)\n",
      "Data columns (total 11 columns):\n",
      " #   Column           Non-Null Count  Dtype  \n",
      "---  ------           --------------  -----  \n",
      " 0   CreditScore      10000 non-null  int64  \n",
      " 1   Geography        10000 non-null  object \n",
      " 2   Gender           10000 non-null  object \n",
      " 3   Age              10000 non-null  int64  \n",
      " 4   Tenure           9091 non-null   float64\n",
      " 5   Balance          10000 non-null  float64\n",
      " 6   NumOfProducts    10000 non-null  int64  \n",
      " 7   HasCrCard        10000 non-null  int64  \n",
      " 8   IsActiveMember   10000 non-null  int64  \n",
      " 9   EstimatedSalary  10000 non-null  float64\n",
      " 10  Exited           10000 non-null  int64  \n",
      "dtypes: float64(3), int64(6), object(2)\n",
      "memory usage: 1.5+ MB\n"
     ]
    }
   ],
   "source": [
    "df.info()"
   ]
  },
  {
   "cell_type": "code",
   "execution_count": 5,
   "metadata": {},
   "outputs": [
    {
     "data": {
      "text/plain": [
       "<AxesSubplot: >"
      ]
     },
     "metadata": {},
     "output_type": "display_data"
    },
    {
     "data": {
      "image/png": "[encoded data removed]",
      "text/plain": [
       "<Figure size 640x480 with 1 Axes>"
      ]
     },
     "metadata": {},
     "output_type": "display_data"
    }
   ],
   "source": [
    "# переменная Tenure содержит пропущенные значения. пожалуй, наиболее аналитически правильным подходом было бы -\n",
    "# восстановить пропущенные значения при помощи несложной модели машинного обучения (чтобы сложнее было переобучить)\n",
    "# однако в данном примере мы просто восстановим данные стахостически по самой переменной\n",
    "\n",
    "display(df.Tenure.hist())\n",
    "tenure_values = df.Tenure.value_counts(normalize=True)\n",
    "df.loc[df.Tenure.isna(), 'Tenure'] = random.choices(tenure_values.index,\n",
    "                                                    weights=tenure_values.values,\n",
    "                                                    k=df.Tenure.isna().sum())"
   ]
  },
  {
   "cell_type": "code",
   "execution_count": 6,
   "metadata": {},
   "outputs": [],
   "source": [
    "# разобьем переменные по типам данных\n",
    "df['IsActiveMember'] = df['IsActiveMember'].astype('bool')\n",
    "\n",
    "numeric = df\\\n",
    "            .drop('Exited', axis=1)\\\n",
    "            .select_dtypes(['int', 'float'])\\\n",
    "            .columns\\\n",
    "            .to_list()\n",
    "\n",
    "categorical = df\\\n",
    "                .drop('Exited', axis=1)\\\n",
    "                .select_dtypes(['object', 'bool'])\\\n",
    "                .columns\\\n",
    "                .to_list()"
   ]
  },
  {
   "cell_type": "markdown",
   "metadata": {
    "tags": []
   },
   "source": [
    "## Исследование задачи"
   ]
  },
  {
   "cell_type": "code",
   "execution_count": 7,
   "metadata": {},
   "outputs": [
    {
     "data": {
      "text/plain": [
       "0    7963\n",
       "1    2037\n",
       "Name: Exited, dtype: int64"
      ]
     },
     "metadata": {},
     "output_type": "display_data"
    },
    {
     "data": {
      "image/png": "[encoded data removed]",
      "text/plain": [
       "<Figure size 640x480 with 1 Axes>"
      ]
     },
     "metadata": {},
     "output_type": "display_data"
    }
   ],
   "source": [
    "display(df['Exited'].value_counts())\n",
    "sns.histplot(df['Exited'])\n",
    "plt.show()"
   ]
  },
  {
   "cell_type": "markdown",
   "metadata": {},
   "source": [
    "Очевидно, что мы имеем дело с несбалансированным датасетом, наблюдений класса \"1\" в четыре раза меньше наблюдений класса \"0\"."
   ]
  },
  {
   "cell_type": "code",
   "execution_count": 8,
   "metadata": {},
   "outputs": [],
   "source": [
    "# разбиваем на зависимую и независимые переменные\n",
    "X = df.drop('Exited', axis=1)\n",
    "y = df['Exited']\n",
    "\n",
    "# преобразуем категориальные переменные посредством OHE\n",
    "X = pd.get_dummies(X, columns=categorical, drop_first=True)\n",
    "\n",
    "# разбиваем на тренировочную и тестовую выборки в соответствии со стратой целевой переменной\n",
    "X_train, X_test, y_train, y_test = train_test_split(X, y, test_size=0.25, random_state=42, stratify=y)\n",
    "\n",
    "# применяю скейлер после разбивки на тренировочную и тестовую выборки,\n",
    "# чтобы не допустить утечки в части возможных крайних значений тестовой выборки\n",
    "scaler = StandardScaler()\n",
    "X_train[numeric] = scaler.fit_transform(X_train[numeric])\n",
    "X_test[numeric] = scaler.transform(X_test[numeric])"
   ]
  },
  {
   "cell_type": "code",
   "execution_count": 9,
   "metadata": {},
   "outputs": [
    {
     "name": "stdout",
     "output_type": "stream",
     "text": [
      "(Логистическая Регресся) На обучаемой выборке значение статистики f1 - 0.31, значение статистики roc_auc - 0.59\n",
      "(Логистическая Регресся) На тестовой выборке значение статистики f1 - 0.29, значение статистики roc_auc - 0.58\n",
      "(Случайный лес) На обучаемой выборке значение статистики f1 - 1.00, значение статистики roc_auc - 1.00\n",
      "(Случайный лес) На тестовой выборке значение статистики f1 - 0.59, значение статистики roc_auc - 0.72\n"
     ]
    }
   ],
   "source": [
    "# обучим модель без учёта дисбаланса\n",
    "model = LogisticRegression(class_weight=None, random_state=42)\n",
    "model.fit(X_train, y_train)\n",
    "print('(Логистическая Регресся) На обучаемой выборке значение статистики f1 - {:.2f}, значение статистики roc_auc - {:.2f}'.format(f1_score(y_train, model.predict(X_train)),\n",
    "                                                                                                 roc_auc_score(y_train, model.predict(X_train))))\n",
    "print('(Логистическая Регресся) На тестовой выборке значение статистики f1 - {:.2f}, значение статистики roc_auc - {:.2f}'.format(f1_score(y_test, model.predict(X_test)),\n",
    "                                                                                                 roc_auc_score(y_test, model.predict(X_test))))\n",
    "\n",
    "# обучим модель без учёта дисбаланса\n",
    "model = RandomForestClassifier(class_weight=None, random_state=42)\n",
    "model.fit(X_train, y_train)\n",
    "print('(Случайный лес) На обучаемой выборке значение статистики f1 - {:.2f}, значение статистики roc_auc - {:.2f}'.format(f1_score(y_train, model.predict(X_train)),\n",
    "                                                                                                 roc_auc_score(y_train, model.predict(X_train))))\n",
    "print('(Случайный лес) На тестовой выборке значение статистики f1 - {:.2f}, значение статистики roc_auc - {:.2f}'.format(f1_score(y_test, model.predict(X_test)),\n",
    "                                                                                                 roc_auc_score(y_test, model.predict(X_test))))"
   ]
  },
  {
   "cell_type": "markdown",
   "metadata": {},
   "source": [
    "Касательно логистической регрессии:\n",
    "\n",
    "Мы можем наблюдать достаточно низкие показатели статистики f1 на обучаемой и на тестовой выборках. Можно предположить, что модель либо недообучена, либо \"уперлась\" в свои фундаментальные ограничения, либо же (кто бы мог подумать) - не смогла хорошо обучиться в условиях несбалансированных классов.\n",
    "\n",
    "Касательно случайного леса:\n",
    "\n",
    "Случайный лес в целом показал себя крайне достойно даже в условиях несбалансированных классов. Однако проблема переобучения (скорее всего из-за отсутсвия ограничений по глубине) безусловно бросается в глаза. Тем более интереснее взглянуть - можно ли улучшить эффективность модели, применя методы борьбы с дисбалансом в классах (в совокупности с тюнингом гиперпараметров)."
   ]
  },
  {
   "cell_type": "markdown",
   "metadata": {},
   "source": [
    "## Борьба с дисбалансом"
   ]
  },
  {
   "cell_type": "markdown",
   "metadata": {},
   "source": [
    "Для начала попробуем обойтись \"малой кровью\" и посмотреть получится ли достичь целевого значения статистики f1 изменяя веса классов. В рассматриваемых моделях (LogisticRegression, RandomForestClassifier, AdaBoostClassifier со случайным лесов в качестве базовой модели) выставим значения параметра class_weight равным 'balanced'. Так же проведем поиск подходящих гиперпараметров моделей (ну или хотя бы их околооптимальных значений) с помощью GridSearсh и кросс-валидации."
   ]
  },
  {
   "cell_type": "code",
   "execution_count": 10,
   "metadata": {},
   "outputs": [
    {
     "name": "stdout",
     "output_type": "stream",
     "text": [
      "Лучшая модель в группе logreg имеет значение статистики f1 - 0.48, статистики auc_score - 0.76 и параметры {'C': 0.1, 'class_weight': 'balanced', 'n_jobs': -1}\n",
      "\n",
      "Лучшая модель в группе randfst имеет значение статистики f1 - 0.62, статистики auc_score - 0.85 и параметры {'class_weight': 'balanced', 'max_depth': 8, 'n_estimators': 50, 'n_jobs': -1}\n",
      "\n",
      "Лучшая модель в группе adaboost имеет значение статистики f1 - 0.62, статистики auc_score - 0.86 и параметры {'base_estimator': RandomForestClassifier(class_weight='balanced', max_depth=10, n_estimators=30,\n",
      "                       n_jobs=-1, random_state=42), 'learning_rate': 0.1, 'n_estimators': 10}\n",
      "\n",
      "Лучшая модель в группе sgd имеет значение статистики f1 - 0.49, статистики auc_score - 0.76 и параметры {'alpha': 0.001, 'class_weight': 'balanced'}\n",
      "\n",
      "CPU times: user 3.62 s, sys: 512 ms, total: 4.14 s\n",
      "Wall time: 29.2 s\n"
     ]
    }
   ],
   "source": [
    "%%time\n",
    "model_types = {'logreg':LogisticRegression,\n",
    "               'randfst': RandomForestClassifier,\n",
    "               'adaboost': AdaBoostClassifier,\n",
    "               'sgd': SGDClassifier\n",
    "              }\n",
    "\n",
    "models_params = {'logreg': {'class_weight': ['balanced'],\n",
    "                            'C': [0.1, 1],\n",
    "                            'n_jobs': [-1]},\n",
    "                 'randfst': {'class_weight':['balanced'],\n",
    "                             'n_estimators': np.arange(50, 100+1, 30),\n",
    "                             'max_depth': np.arange(7, 20+1, 1),\n",
    "                             'n_jobs': [-1]},\n",
    "                 'adaboost': {'base_estimator': [RandomForestClassifier(class_weight='balanced',\n",
    "                                                                       n_estimators=30,\n",
    "                                                                       max_depth=10,\n",
    "                                                                       n_jobs=-1,\n",
    "                                                                       random_state=42)],\n",
    "                              'n_estimators': np.arange(10, 20+1, 5),\n",
    "                              'learning_rate': [0.1, 1]},\n",
    "                 'sgd': {'class_weight': ['balanced'],\n",
    "                         'alpha': [0.00001, 0.0001, 0.001]}\n",
    "                }\n",
    "\n",
    "best_models = {}\n",
    "\n",
    "for model_type in model_types:\n",
    "    model = model_types[model_type](random_state=42)\n",
    "    grid = GridSearchCV(model, models_params[model_type], cv=5, scoring=['f1', 'roc_auc'],\n",
    "                        n_jobs=5, refit='f1', return_train_score=False)\n",
    "    grid.fit(X_train, y_train)\n",
    "    best_models[model_type] = grid.best_estimator_\n",
    "    print('Лучшая модель в группе {} имеет значение статистики f1 - {:.2f}, статистики auc_score - {:.2f} и параметры {}'.format(model_type,\n",
    "                                                                                                                                 grid.best_score_,\n",
    "                                                                                                                                 grid.cv_results_['mean_test_roc_auc'][grid.best_index_],\n",
    "                                                                                                                                 grid.best_params_))\n",
    "    print()"
   ]
  },
  {
   "cell_type": "markdown",
   "metadata": {},
   "source": [
    "Что ж, нам удалось достичь необходимого значения статистики f1 (и даже несколько ее улучшить у такой сложной модели как случайный лес) с использованием \"корректировки весов\" в моделях. Для  полноты проекта все же посмотрим на поведение моделей на \"апсемпленных\" данных. Также очевидно, что в одновременной балансировке классов силами моделей - нет необходимости."
   ]
  },
  {
   "cell_type": "code",
   "execution_count": 11,
   "metadata": {},
   "outputs": [],
   "source": [
    "def upsample(features, target, repeat):\n",
    "    features_zeros = features[target == 0]\n",
    "    features_ones = features[target == 1]\n",
    "    target_zeros = target[target == 0]\n",
    "    target_ones = target[target == 1]\n",
    "\n",
    "    features_upsampled = np.concatenate([features_zeros] + [features_ones] * repeat)\n",
    "    target_upsampled = np.concatenate([target_zeros] + [target_ones] * repeat)\n",
    "    \n",
    "    features_upsampled, target_upsampled = shuffle(\n",
    "        features_upsampled, target_upsampled, random_state=42)\n",
    "    \n",
    "    return features_upsampled, target_upsampled"
   ]
  },
  {
   "cell_type": "code",
   "execution_count": 12,
   "metadata": {},
   "outputs": [],
   "source": [
    "# семплированные версии обучаемых выборок\n",
    "X_train_up, y_train_up = upsample(X_train, y_train, 4)"
   ]
  },
  {
   "cell_type": "code",
   "execution_count": 13,
   "metadata": {
    "scrolled": true
   },
   "outputs": [
    {
     "name": "stdout",
     "output_type": "stream",
     "text": [
      "Лучшая модель в группе logreg имеет значение статистики f1 - 0.70, статистики auc_score - 0.76 и параметры {'C': 0.1, 'class_weight': None, 'n_jobs': -1}\n",
      "\n",
      "Лучшая модель в группе randfst имеет значение статистики f1 - 0.96, статистики auc_score - 1.00 и параметры {'class_weight': None, 'max_depth': 19, 'n_estimators': 50, 'n_jobs': -1}\n",
      "\n",
      "Лучшая модель в группе adaboost имеет значение статистики f1 - 0.97, статистики auc_score - 1.00 и параметры {'base_estimator': RandomForestClassifier(max_depth=10, n_estimators=30, n_jobs=-1,\n",
      "                       random_state=42), 'learning_rate': 1, 'n_estimators': 20}\n",
      "\n",
      "Лучшая модель в группе sgd имеет значение статистики f1 - 0.70, статистики auc_score - 0.76 и параметры {'alpha': 0.001, 'class_weight': None}\n",
      "\n",
      "CPU times: user 9.27 s, sys: 530 ms, total: 9.8 s\n",
      "Wall time: 37.2 s\n"
     ]
    }
   ],
   "source": [
    "%%time\n",
    "model_types = {'logreg':LogisticRegression,\n",
    "               'randfst': RandomForestClassifier,\n",
    "               'adaboost': AdaBoostClassifier,\n",
    "               'sgd': SGDClassifier               \n",
    "              }\n",
    "\n",
    "models_params = {'logreg': {'class_weight': [None],\n",
    "                            'C': [0.1, 1],\n",
    "                            'n_jobs': [-1]},\n",
    "                 'randfst': {'class_weight':[None],\n",
    "                             'n_estimators': np.arange(50, 100+1, 30),\n",
    "                             'max_depth': np.arange(7, 20+1, 1),\n",
    "                             'n_jobs': [-1]},\n",
    "                 'adaboost': {'base_estimator': [RandomForestClassifier(class_weight=None,\n",
    "                                                                       n_estimators=30,\n",
    "                                                                       max_depth=10,\n",
    "                                                                       n_jobs=-1,\n",
    "                                                                       random_state=42)],\n",
    "                              'n_estimators': np.arange(10, 20+1, 5),\n",
    "                              'learning_rate': [0.1, 1]},\n",
    "                 'sgd': {'class_weight': [None],\n",
    "                         'alpha': [0.00001, 0.0001, 0.001]}\n",
    "                }\n",
    "\n",
    "best_models_upsampled = {}\n",
    "\n",
    "for model_type in model_types:\n",
    "    model = model_types[model_type](random_state=42)\n",
    "    grid = GridSearchCV(model, models_params[model_type], cv=5, scoring=['f1', 'roc_auc'],\n",
    "                        n_jobs=5, refit='f1', return_train_score=False)\n",
    "    grid.fit(X_train_up, y_train_up)\n",
    "    best_models_upsampled[model_type] = grid.best_estimator_\n",
    "    print('Лучшая модель в группе {} имеет значение статистики f1 - {:.2f}, статистики auc_score - {:.2f} и параметры {}'.format(model_type,\n",
    "                                                                                                                                 grid.best_score_,\n",
    "                                                                                                                                 grid.cv_results_['mean_test_roc_auc'][grid.best_index_],\n",
    "                                                                                                                                 grid.best_params_))\n",
    "    print()"
   ]
  },
  {
   "cell_type": "markdown",
   "metadata": {},
   "source": [
    "Показатели статистики f1 значительно выше, однако сравнивать указанные показатели напрямую было бы несколько опрометчиво, так как технически они производятся на разных выборках. Таким образом, наиболее результативную модель по статистике f1 можно будет определить только на тестовой выборке."
   ]
  },
  {
   "cell_type": "markdown",
   "metadata": {},
   "source": [
    "## Тестирование модели"
   ]
  },
  {
   "cell_type": "code",
   "execution_count": 14,
   "metadata": {},
   "outputs": [
    {
     "name": "stdout",
     "output_type": "stream",
     "text": [
      "[Баланс весами классов] Модель группы logreg продемонстрировала точность на тестовой выборке статистики f1 - 0.52, статистики auc_score - 0.72\n"
     ]
    },
    {
     "data": {
      "image/png": "[encoded data removed]",
      "text/plain": [
       "<Figure size 640x480 with 1 Axes>"
      ]
     },
     "metadata": {},
     "output_type": "display_data"
    },
    {
     "name": "stdout",
     "output_type": "stream",
     "text": [
      "[Баланс весами классов] Модель группы randfst продемонстрировала точность на тестовой выборке статистики f1 - 0.62, статистики auc_score - 0.78\n"
     ]
    },
    {
     "data": {
      "image/png": "[encoded data removed]",
      "text/plain": [
       "<Figure size 640x480 with 1 Axes>"
      ]
     },
     "metadata": {},
     "output_type": "display_data"
    },
    {
     "name": "stdout",
     "output_type": "stream",
     "text": [
      "[Баланс весами классов] Модель группы adaboost продемонстрировала точность на тестовой выборке статистики f1 - 0.64, статистики auc_score - 0.78\n"
     ]
    },
    {
     "data": {
      "image/png": "[encoded data removed]",
      "text/plain": [
       "<Figure size 640x480 with 1 Axes>"
      ]
     },
     "metadata": {},
     "output_type": "display_data"
    },
    {
     "name": "stdout",
     "output_type": "stream",
     "text": [
      "[Баланс весами классов] Модель группы sgd продемонстрировала точность на тестовой выборке статистики f1 - 0.50, статистики auc_score - 0.71\n"
     ]
    },
    {
     "data": {
      "image/png": "[encoded data removed]",
      "text/plain": [
       "<Figure size 640x480 with 1 Axes>"
      ]
     },
     "metadata": {},
     "output_type": "display_data"
    },
    {
     "name": "stdout",
     "output_type": "stream",
     "text": [
      "[Upsampling] Модель группы logreg продемонстрировала точность на тестовой выборке статистики f1 - 0.51, статистики auc_score - 0.72\n"
     ]
    },
    {
     "data": {
      "image/png": "[encoded data removed]",
      "text/plain": [
       "<Figure size 640x480 with 1 Axes>"
      ]
     },
     "metadata": {},
     "output_type": "display_data"
    },
    {
     "name": "stdout",
     "output_type": "stream",
     "text": [
      "[Upsampling] Модель группы randfst продемонстрировала точность на тестовой выборке статистики f1 - 0.62, статистики auc_score - 0.75\n"
     ]
    },
    {
     "data": {
      "image/png": "[encoded data removed]",
      "text/plain": [
       "<Figure size 640x480 with 1 Axes>"
      ]
     },
     "metadata": {},
     "output_type": "display_data"
    },
    {
     "name": "stdout",
     "output_type": "stream",
     "text": [
      "[Upsampling] Модель группы adaboost продемонстрировала точность на тестовой выборке статистики f1 - 0.59, статистики auc_score - 0.73\n"
     ]
    },
    {
     "data": {
      "image/png": "[encoded data removed]",
      "text/plain": [
       "<Figure size 640x480 with 1 Axes>"
      ]
     },
     "metadata": {},
     "output_type": "display_data"
    },
    {
     "name": "stdout",
     "output_type": "stream",
     "text": [
      "[Upsampling] Модель группы sgd продемонстрировала точность на тестовой выборке статистики f1 - 0.51, статистики auc_score - 0.72\n"
     ]
    },
    {
     "data": {
      "image/png": "[encoded data removed]",
      "text/plain": [
       "<Figure size 640x480 with 1 Axes>"
      ]
     },
     "metadata": {},
     "output_type": "display_data"
    }
   ],
   "source": [
    "for model in best_models:\n",
    "    print('[Баланс весами классов] Модель группы {} продемонстрировала точность на тестовой выборке статистики f1 - {:.2f}, статистики auc_score - {:.2f}'\\\n",
    "          .format(model,\n",
    "                  f1_score(y_test, best_models[model].predict(X_test)),\n",
    "                  roc_auc_score(y_test, best_models[model].predict(X_test))))\n",
    "    plot_roc_curve(best_models_upsampled[model], X_test, y_test)\n",
    "    plt.show()\n",
    "    \n",
    "for model in best_models_upsampled:\n",
    "    print('[Upsampling] Модель группы {} продемонстрировала точность на тестовой выборке статистики f1 - {:.2f}, статистики auc_score - {:.2f}'\\\n",
    "          .format(model,\n",
    "                  f1_score(y_test, best_models_upsampled[model].predict(X_test)),\n",
    "                  roc_auc_score(y_test, best_models_upsampled[model].predict(X_test))))\n",
    "    plot_roc_curve(best_models_upsampled[model], X_test, y_test)\n",
    "    plt.show()\n",
    "    "
   ]
  },
  {
   "cell_type": "markdown",
   "metadata": {},
   "source": [
    "Результаты, продемонстрированные при кросс-валидации полностью оправдались. В целом весовое масштабирование и апсэмпелинг сработали одинаково хорошо, показав сопоставимые (порой даже идентичные) результаты."
   ]
  }
 ],
 "metadata": {
  "ExecuteTimeLog": [
   {
    "duration": 494,
    "start_time": "2022-10-14T07:54:53.092Z"
   },
   {
    "duration": 37,
    "start_time": "2022-10-14T07:55:04.532Z"
   },
   {
    "duration": 15,
    "start_time": "2022-10-14T07:56:38.135Z"
   },
   {
    "duration": 6,
    "start_time": "2022-10-14T07:57:05.231Z"
   },
   {
    "duration": 35,
    "start_time": "2022-10-14T07:59:00.021Z"
   },
   {
    "duration": 37,
    "start_time": "2022-10-14T07:59:05.180Z"
   },
   {
    "duration": 46,
    "start_time": "2022-10-14T07:59:41.171Z"
   },
   {
    "duration": 11,
    "start_time": "2022-10-14T08:00:55.351Z"
   },
   {
    "duration": 17,
    "start_time": "2022-10-14T08:02:23.952Z"
   },
   {
    "duration": 73,
    "start_time": "2022-10-14T08:02:51.321Z"
   },
   {
    "duration": 9,
    "start_time": "2022-10-14T08:02:57.012Z"
   },
   {
    "duration": 14,
    "start_time": "2022-10-14T08:04:14.738Z"
   },
   {
    "duration": 19,
    "start_time": "2022-10-14T08:04:29.510Z"
   },
   {
    "duration": 4,
    "start_time": "2022-10-14T08:05:36.393Z"
   },
   {
    "duration": 165,
    "start_time": "2022-10-14T08:06:02.469Z"
   },
   {
    "duration": 7,
    "start_time": "2022-10-14T08:06:07.850Z"
   },
   {
    "duration": 5,
    "start_time": "2022-10-14T08:07:29.161Z"
   },
   {
    "duration": 38,
    "start_time": "2022-10-14T08:08:02.461Z"
   },
   {
    "duration": 40,
    "start_time": "2022-10-14T08:10:19.868Z"
   },
   {
    "duration": 11,
    "start_time": "2022-10-14T08:10:22.308Z"
   },
   {
    "duration": 5,
    "start_time": "2022-10-14T08:10:29.100Z"
   },
   {
    "duration": 5,
    "start_time": "2022-10-14T08:10:38.860Z"
   },
   {
    "duration": 4,
    "start_time": "2022-10-14T08:11:21.260Z"
   },
   {
    "duration": 4,
    "start_time": "2022-10-14T08:11:29.068Z"
   },
   {
    "duration": 40,
    "start_time": "2022-10-14T08:13:58.961Z"
   },
   {
    "duration": 72,
    "start_time": "2022-10-14T08:14:05.529Z"
   },
   {
    "duration": 8,
    "start_time": "2022-10-14T08:14:10.142Z"
   },
   {
    "duration": 5,
    "start_time": "2022-10-14T08:14:11.361Z"
   },
   {
    "duration": 4,
    "start_time": "2022-10-14T08:21:36.489Z"
   },
   {
    "duration": 573,
    "start_time": "2022-10-14T08:30:19.648Z"
   },
   {
    "duration": 469,
    "start_time": "2022-10-14T08:30:39.941Z"
   },
   {
    "duration": 11589,
    "start_time": "2022-10-14T08:31:51.020Z"
   },
   {
    "duration": 178,
    "start_time": "2022-10-14T08:33:34.133Z"
   },
   {
    "duration": 105,
    "start_time": "2022-10-14T08:33:50.754Z"
   },
   {
    "duration": 7,
    "start_time": "2022-10-14T08:34:09.814Z"
   },
   {
    "duration": 118,
    "start_time": "2022-10-14T08:34:25.893Z"
   },
   {
    "duration": 130,
    "start_time": "2022-10-14T08:34:36.687Z"
   },
   {
    "duration": 135,
    "start_time": "2022-10-14T08:34:52.982Z"
   },
   {
    "duration": 165,
    "start_time": "2022-10-14T08:38:12.800Z"
   },
   {
    "duration": 199,
    "start_time": "2022-10-14T08:38:23.468Z"
   },
   {
    "duration": 44,
    "start_time": "2022-10-14T08:38:44.010Z"
   },
   {
    "duration": 149,
    "start_time": "2022-10-14T08:38:47.249Z"
   },
   {
    "duration": 44,
    "start_time": "2022-10-14T08:52:20.834Z"
   },
   {
    "duration": 15,
    "start_time": "2022-10-14T08:52:26.105Z"
   },
   {
    "duration": 9,
    "start_time": "2022-10-14T08:52:36.595Z"
   },
   {
    "duration": 9,
    "start_time": "2022-10-14T08:57:41.595Z"
   },
   {
    "duration": 12,
    "start_time": "2022-10-14T08:57:48.794Z"
   },
   {
    "duration": 11,
    "start_time": "2022-10-14T08:57:59.403Z"
   },
   {
    "duration": 8,
    "start_time": "2022-10-14T08:58:12.470Z"
   },
   {
    "duration": 9,
    "start_time": "2022-10-14T10:22:19.718Z"
   },
   {
    "duration": 14,
    "start_time": "2022-10-14T10:22:26.565Z"
   },
   {
    "duration": 317,
    "start_time": "2022-10-14T10:22:56.684Z"
   },
   {
    "duration": 43,
    "start_time": "2022-10-14T10:29:32.799Z"
   },
   {
    "duration": 380,
    "start_time": "2022-10-14T10:31:03.757Z"
   },
   {
    "duration": 5,
    "start_time": "2022-10-14T10:31:53.625Z"
   },
   {
    "duration": 11,
    "start_time": "2022-10-14T10:31:56.018Z"
   },
   {
    "duration": 155,
    "start_time": "2022-10-14T10:31:57.298Z"
   },
   {
    "duration": 303,
    "start_time": "2022-10-14T10:31:59.434Z"
   },
   {
    "duration": 5715,
    "start_time": "2022-10-14T10:31:59.893Z"
   },
   {
    "duration": 5356,
    "start_time": "2022-10-14T10:57:48.079Z"
   },
   {
    "duration": 40,
    "start_time": "2022-10-14T11:01:31.677Z"
   },
   {
    "duration": 16,
    "start_time": "2022-10-14T11:01:40.837Z"
   },
   {
    "duration": 41,
    "start_time": "2022-10-14T11:02:01.797Z"
   },
   {
    "duration": 4728,
    "start_time": "2022-10-14T11:02:10.878Z"
   },
   {
    "duration": 1305,
    "start_time": "2022-10-14T11:07:24.080Z"
   },
   {
    "duration": 1057,
    "start_time": "2022-10-14T11:07:29.205Z"
   },
   {
    "duration": 894,
    "start_time": "2022-10-14T11:07:45.334Z"
   },
   {
    "duration": 725,
    "start_time": "2022-10-14T11:07:51.217Z"
   },
   {
    "duration": 22,
    "start_time": "2022-10-14T11:09:39.476Z"
   },
   {
    "duration": 308,
    "start_time": "2022-10-14T11:09:54.825Z"
   },
   {
    "duration": 322,
    "start_time": "2022-10-14T11:10:19.778Z"
   },
   {
    "duration": 358,
    "start_time": "2022-10-14T11:10:26.465Z"
   },
   {
    "duration": 43,
    "start_time": "2022-10-14T11:11:08.396Z"
   },
   {
    "duration": 41,
    "start_time": "2022-10-14T11:11:09.918Z"
   },
   {
    "duration": 11,
    "start_time": "2022-10-14T11:11:10.482Z"
   },
   {
    "duration": 5,
    "start_time": "2022-10-14T11:11:11.708Z"
   },
   {
    "duration": 10,
    "start_time": "2022-10-14T11:11:12.385Z"
   },
   {
    "duration": 164,
    "start_time": "2022-10-14T11:11:14.084Z"
   },
   {
    "duration": 320,
    "start_time": "2022-10-14T11:11:15.870Z"
   },
   {
    "duration": 2483,
    "start_time": "2022-10-14T11:11:16.248Z"
   },
   {
    "duration": 42,
    "start_time": "2022-10-14T11:12:37.728Z"
   },
   {
    "duration": 3044,
    "start_time": "2022-10-14T11:13:07.687Z"
   },
   {
    "duration": 326,
    "start_time": "2022-10-14T11:13:26.127Z"
   },
   {
    "duration": 365,
    "start_time": "2022-10-14T11:13:27.908Z"
   },
   {
    "duration": 5,
    "start_time": "2022-10-14T11:13:37.476Z"
   },
   {
    "duration": 11,
    "start_time": "2022-10-14T11:13:37.876Z"
   },
   {
    "duration": 181,
    "start_time": "2022-10-14T11:13:38.349Z"
   },
   {
    "duration": 299,
    "start_time": "2022-10-14T11:13:39.910Z"
   },
   {
    "duration": 3232,
    "start_time": "2022-10-14T11:13:41.477Z"
   },
   {
    "duration": 719,
    "start_time": "2022-10-14T11:14:39.727Z"
   },
   {
    "duration": 731,
    "start_time": "2022-10-14T11:14:46.799Z"
   },
   {
    "duration": 3190,
    "start_time": "2022-10-14T11:14:50.518Z"
   },
   {
    "duration": 3108,
    "start_time": "2022-10-14T11:15:30.419Z"
   },
   {
    "duration": 946,
    "start_time": "2022-10-14T11:15:33.529Z"
   },
   {
    "duration": 1310,
    "start_time": "2022-10-14T11:15:37.018Z"
   },
   {
    "duration": 739,
    "start_time": "2022-10-14T11:15:41.479Z"
   },
   {
    "duration": 41,
    "start_time": "2022-10-14T11:15:49.035Z"
   },
   {
    "duration": 41,
    "start_time": "2022-10-14T11:15:49.459Z"
   },
   {
    "duration": 11,
    "start_time": "2022-10-14T11:15:50.027Z"
   },
   {
    "duration": 4,
    "start_time": "2022-10-14T11:15:50.399Z"
   },
   {
    "duration": 11,
    "start_time": "2022-10-14T11:15:51.739Z"
   },
   {
    "duration": 141,
    "start_time": "2022-10-14T11:15:53.316Z"
   },
   {
    "duration": 289,
    "start_time": "2022-10-14T11:16:01.651Z"
   },
   {
    "duration": 5045,
    "start_time": "2022-10-14T11:16:02.586Z"
   },
   {
    "duration": 721,
    "start_time": "2022-10-14T11:16:11.672Z"
   },
   {
    "duration": 299,
    "start_time": "2022-10-14T11:16:55.761Z"
   },
   {
    "duration": 3007,
    "start_time": "2022-10-14T11:16:57.428Z"
   },
   {
    "duration": 3089,
    "start_time": "2022-10-14T11:18:19.453Z"
   },
   {
    "duration": 3093,
    "start_time": "2022-10-14T11:18:31.725Z"
   },
   {
    "duration": 44,
    "start_time": "2022-10-14T11:30:37.405Z"
   },
   {
    "duration": 44,
    "start_time": "2022-10-14T11:30:37.808Z"
   },
   {
    "duration": 12,
    "start_time": "2022-10-14T11:30:38.125Z"
   },
   {
    "duration": 4,
    "start_time": "2022-10-14T11:30:38.345Z"
   },
   {
    "duration": 11,
    "start_time": "2022-10-14T11:30:38.575Z"
   },
   {
    "duration": 144,
    "start_time": "2022-10-14T11:30:40.486Z"
   },
   {
    "duration": 1327,
    "start_time": "2022-10-14T11:30:45.993Z"
   },
   {
    "duration": 2756,
    "start_time": "2022-10-14T11:30:48.165Z"
   },
   {
    "duration": 1376,
    "start_time": "2022-10-14T11:31:01.545Z"
   },
   {
    "duration": 45,
    "start_time": "2022-10-14T19:52:53.609Z"
   },
   {
    "duration": 1800,
    "start_time": "2022-10-14T19:52:58.596Z"
   },
   {
    "duration": 54,
    "start_time": "2022-10-14T19:53:00.399Z"
   },
   {
    "duration": 17,
    "start_time": "2022-10-14T19:53:00.454Z"
   },
   {
    "duration": 23,
    "start_time": "2022-10-14T19:53:00.754Z"
   },
   {
    "duration": 5,
    "start_time": "2022-10-14T19:56:49.224Z"
   },
   {
    "duration": 12,
    "start_time": "2022-10-14T19:57:09.762Z"
   },
   {
    "duration": 166,
    "start_time": "2022-10-14T19:57:13.338Z"
   },
   {
    "duration": 404,
    "start_time": "2022-10-14T19:59:23.378Z"
   },
   {
    "duration": 372,
    "start_time": "2022-10-14T19:59:54.967Z"
   },
   {
    "duration": 7365,
    "start_time": "2022-10-14T20:00:26.078Z"
   },
   {
    "duration": 813,
    "start_time": "2022-10-14T20:00:51.216Z"
   },
   {
    "duration": 798,
    "start_time": "2022-10-14T20:00:56.692Z"
   },
   {
    "duration": 792,
    "start_time": "2022-10-14T20:01:00.729Z"
   },
   {
    "duration": 798,
    "start_time": "2022-10-14T20:01:06.651Z"
   },
   {
    "duration": 7573,
    "start_time": "2022-10-14T20:01:34.547Z"
   },
   {
    "duration": 5923,
    "start_time": "2022-10-14T20:02:12.198Z"
   },
   {
    "duration": 348,
    "start_time": "2022-10-14T20:02:46.216Z"
   },
   {
    "duration": 1820,
    "start_time": "2022-10-14T20:03:04.133Z"
   },
   {
    "duration": 6071,
    "start_time": "2022-10-14T20:03:06.651Z"
   },
   {
    "duration": 6,
    "start_time": "2022-10-14T20:03:38.059Z"
   },
   {
    "duration": 82,
    "start_time": "2022-10-14T20:04:02.256Z"
   },
   {
    "duration": 14,
    "start_time": "2022-10-14T20:04:18.287Z"
   },
   {
    "duration": 4,
    "start_time": "2022-10-14T20:04:48.104Z"
   },
   {
    "duration": 6,
    "start_time": "2022-10-14T20:06:49.114Z"
   },
   {
    "duration": 31,
    "start_time": "2022-10-14T20:07:17.807Z"
   },
   {
    "duration": 766,
    "start_time": "2022-10-14T20:09:26.310Z"
   },
   {
    "duration": 1590,
    "start_time": "2022-10-14T20:09:44.437Z"
   },
   {
    "duration": 1222,
    "start_time": "2022-10-14T20:09:53.682Z"
   },
   {
    "duration": 684,
    "start_time": "2022-10-14T20:09:54.906Z"
   },
   {
    "duration": 693,
    "start_time": "2022-10-14T20:10:47.594Z"
   },
   {
    "duration": 1207,
    "start_time": "2022-10-14T20:10:51.090Z"
   },
   {
    "duration": 1235,
    "start_time": "2022-10-14T20:11:01.155Z"
   },
   {
    "duration": 691,
    "start_time": "2022-10-14T20:11:05.469Z"
   },
   {
    "duration": 684,
    "start_time": "2022-10-14T20:11:10.814Z"
   },
   {
    "duration": 1275,
    "start_time": "2022-10-14T20:11:11.500Z"
   },
   {
    "duration": 6008,
    "start_time": "2022-10-14T20:23:30.713Z"
   },
   {
    "duration": 13,
    "start_time": "2022-10-14T20:31:45.419Z"
   },
   {
    "duration": 44,
    "start_time": "2022-10-14T20:32:03.412Z"
   },
   {
    "duration": 15,
    "start_time": "2022-10-14T20:32:09.622Z"
   },
   {
    "duration": 44,
    "start_time": "2022-10-14T20:32:25.262Z"
   },
   {
    "duration": 21,
    "start_time": "2022-10-14T20:32:28.294Z"
   },
   {
    "duration": 18,
    "start_time": "2022-10-14T20:32:43.261Z"
   },
   {
    "duration": 539007,
    "start_time": "2022-10-14T20:33:37.843Z"
   },
   {
    "duration": 339736,
    "start_time": "2022-10-14T20:44:28.567Z"
   },
   {
    "duration": 5,
    "start_time": "2022-10-14T20:50:50.352Z"
   },
   {
    "duration": 6,
    "start_time": "2022-10-14T20:50:55.971Z"
   },
   {
    "duration": 4,
    "start_time": "2022-10-14T20:51:02.578Z"
   },
   {
    "duration": 4,
    "start_time": "2022-10-14T20:51:08.668Z"
   },
   {
    "duration": 5,
    "start_time": "2022-10-14T20:51:12.579Z"
   },
   {
    "duration": 5,
    "start_time": "2022-10-14T20:51:15.834Z"
   },
   {
    "duration": 4,
    "start_time": "2022-10-14T20:51:30.219Z"
   },
   {
    "duration": 6,
    "start_time": "2022-10-14T20:51:33.085Z"
   },
   {
    "duration": 4,
    "start_time": "2022-10-14T20:51:37.270Z"
   },
   {
    "duration": 4,
    "start_time": "2022-10-14T20:51:45.614Z"
   },
   {
    "duration": 8,
    "start_time": "2022-10-14T20:54:08.999Z"
   },
   {
    "duration": 4,
    "start_time": "2022-10-14T20:54:25.071Z"
   },
   {
    "duration": 8,
    "start_time": "2022-10-14T20:54:28.094Z"
   },
   {
    "duration": 17,
    "start_time": "2022-10-14T20:55:42.276Z"
   },
   {
    "duration": 4,
    "start_time": "2022-10-14T20:56:46.953Z"
   },
   {
    "duration": 4,
    "start_time": "2022-10-14T20:58:28.432Z"
   },
   {
    "duration": 17,
    "start_time": "2022-10-14T20:58:31.867Z"
   },
   {
    "duration": 4,
    "start_time": "2022-10-14T20:58:46.002Z"
   },
   {
    "duration": 11,
    "start_time": "2022-10-14T20:58:56.641Z"
   },
   {
    "duration": 17,
    "start_time": "2022-10-14T20:59:06.235Z"
   },
   {
    "duration": 4,
    "start_time": "2022-10-14T21:00:28.183Z"
   },
   {
    "duration": 4,
    "start_time": "2022-10-14T21:00:34.464Z"
   },
   {
    "duration": 15,
    "start_time": "2022-10-14T21:02:58.726Z"
   },
   {
    "duration": 193758,
    "start_time": "2022-10-14T21:03:17.189Z"
   },
   {
    "duration": 13,
    "start_time": "2022-10-14T21:08:18.693Z"
   },
   {
    "duration": 4,
    "start_time": "2022-10-14T21:08:46.777Z"
   },
   {
    "duration": 139428,
    "start_time": "2022-10-14T21:11:39.182Z"
   },
   {
    "duration": 32576,
    "start_time": "2022-10-14T21:22:31.750Z"
   },
   {
    "duration": 28396,
    "start_time": "2022-10-14T21:23:30.248Z"
   },
   {
    "duration": 6761,
    "start_time": "2022-10-14T21:24:43.364Z"
   },
   {
    "duration": 7148,
    "start_time": "2022-10-14T21:25:06.373Z"
   },
   {
    "duration": 312,
    "start_time": "2022-10-14T21:25:58.612Z"
   },
   {
    "duration": 399,
    "start_time": "2022-10-14T21:26:04.427Z"
   },
   {
    "duration": 281,
    "start_time": "2022-10-14T21:26:13.747Z"
   },
   {
    "duration": 314,
    "start_time": "2022-10-14T21:26:17.211Z"
   },
   {
    "duration": 275,
    "start_time": "2022-10-14T21:26:26.946Z"
   },
   {
    "duration": 194,
    "start_time": "2022-10-14T21:26:30.253Z"
   },
   {
    "duration": 132606,
    "start_time": "2022-10-14T21:31:55.990Z"
   },
   {
    "duration": 50457,
    "start_time": "2022-10-14T21:35:15.087Z"
   },
   {
    "duration": 1822,
    "start_time": "2022-10-14T21:36:32.213Z"
   },
   {
    "duration": 52,
    "start_time": "2022-10-14T21:36:34.739Z"
   },
   {
    "duration": 47,
    "start_time": "2022-10-14T21:36:57.575Z"
   },
   {
    "duration": 41,
    "start_time": "2022-10-14T21:37:32.943Z"
   },
   {
    "duration": 44,
    "start_time": "2022-10-14T21:37:33.137Z"
   },
   {
    "duration": 12,
    "start_time": "2022-10-14T21:37:33.354Z"
   },
   {
    "duration": 23,
    "start_time": "2022-10-14T21:37:33.548Z"
   },
   {
    "duration": 6,
    "start_time": "2022-10-14T21:37:33.720Z"
   },
   {
    "duration": 11,
    "start_time": "2022-10-14T21:37:34.529Z"
   },
   {
    "duration": 151,
    "start_time": "2022-10-14T21:37:37.033Z"
   },
   {
    "duration": 1727,
    "start_time": "2022-10-14T21:37:39.753Z"
   },
   {
    "duration": 3434,
    "start_time": "2022-10-14T21:37:42.088Z"
   },
   {
    "duration": 30233,
    "start_time": "2022-10-14T21:38:13.188Z"
   },
   {
    "duration": 441643,
    "start_time": "2022-10-14T21:40:10.755Z"
   },
   {
    "duration": 10,
    "start_time": "2022-10-14T21:47:32.400Z"
   },
   {
    "duration": 5,
    "start_time": "2022-10-14T21:52:00.619Z"
   },
   {
    "duration": 471,
    "start_time": "2022-10-14T21:52:37.384Z"
   },
   {
    "duration": 514,
    "start_time": "2022-10-14T21:53:11.153Z"
   },
   {
    "duration": 1405,
    "start_time": "2022-10-14T21:55:00.876Z"
   },
   {
    "duration": 52,
    "start_time": "2022-10-14T21:55:03.028Z"
   },
   {
    "duration": 12,
    "start_time": "2022-10-14T21:55:04.422Z"
   },
   {
    "duration": 22,
    "start_time": "2022-10-14T21:55:05.317Z"
   },
   {
    "duration": 4,
    "start_time": "2022-10-14T21:55:06.702Z"
   },
   {
    "duration": 11,
    "start_time": "2022-10-14T21:55:10.486Z"
   },
   {
    "duration": 172,
    "start_time": "2022-10-14T21:55:12.189Z"
   },
   {
    "duration": 1801,
    "start_time": "2022-10-14T21:55:13.700Z"
   },
   {
    "duration": 3346,
    "start_time": "2022-10-14T21:56:53.683Z"
   },
   {
    "duration": 43,
    "start_time": "2022-10-14T21:57:54.197Z"
   },
   {
    "duration": 43,
    "start_time": "2022-10-14T21:57:54.392Z"
   },
   {
    "duration": 12,
    "start_time": "2022-10-14T21:57:54.586Z"
   },
   {
    "duration": 20,
    "start_time": "2022-10-14T21:57:54.828Z"
   },
   {
    "duration": 4,
    "start_time": "2022-10-14T21:57:56.282Z"
   },
   {
    "duration": 10,
    "start_time": "2022-10-14T21:57:57.008Z"
   },
   {
    "duration": 145,
    "start_time": "2022-10-14T21:57:57.986Z"
   },
   {
    "duration": 985,
    "start_time": "2022-10-14T21:58:00.959Z"
   },
   {
    "duration": 3226,
    "start_time": "2022-10-14T21:58:09.795Z"
   },
   {
    "duration": 45,
    "start_time": "2022-10-14T22:07:55.266Z"
   },
   {
    "duration": 46,
    "start_time": "2022-10-14T22:07:56.800Z"
   },
   {
    "duration": 11,
    "start_time": "2022-10-14T22:07:57.953Z"
   },
   {
    "duration": 28,
    "start_time": "2022-10-14T22:07:58.992Z"
   },
   {
    "duration": 4,
    "start_time": "2022-10-14T22:08:00.640Z"
   },
   {
    "duration": 10,
    "start_time": "2022-10-14T22:08:01.202Z"
   },
   {
    "duration": 234,
    "start_time": "2022-10-14T22:08:02.692Z"
   },
   {
    "duration": 970,
    "start_time": "2022-10-14T22:08:05.065Z"
   },
   {
    "duration": 3149,
    "start_time": "2022-10-14T22:08:08.473Z"
   },
   {
    "duration": 3288,
    "start_time": "2022-10-14T22:09:52.737Z"
   },
   {
    "duration": 3221,
    "start_time": "2022-10-14T22:10:24.300Z"
   },
   {
    "duration": 3252,
    "start_time": "2022-10-14T22:14:00.773Z"
   },
   {
    "duration": 40,
    "start_time": "2022-10-14T22:17:29.563Z"
   },
   {
    "duration": 47,
    "start_time": "2022-10-14T22:17:30.376Z"
   },
   {
    "duration": 12,
    "start_time": "2022-10-14T22:17:30.616Z"
   },
   {
    "duration": 22,
    "start_time": "2022-10-14T22:17:30.809Z"
   },
   {
    "duration": 6,
    "start_time": "2022-10-14T22:17:31.775Z"
   },
   {
    "duration": 10,
    "start_time": "2022-10-14T22:17:32.567Z"
   },
   {
    "duration": 158,
    "start_time": "2022-10-14T22:17:33.513Z"
   },
   {
    "duration": 974,
    "start_time": "2022-10-14T22:17:37.752Z"
   },
   {
    "duration": 6749,
    "start_time": "2022-10-14T22:17:41.072Z"
   },
   {
    "duration": 40,
    "start_time": "2022-10-14T22:18:03.914Z"
   },
   {
    "duration": 48,
    "start_time": "2022-10-14T22:18:04.556Z"
   },
   {
    "duration": 13,
    "start_time": "2022-10-14T22:18:04.770Z"
   },
   {
    "duration": 24,
    "start_time": "2022-10-14T22:18:04.966Z"
   },
   {
    "duration": 5,
    "start_time": "2022-10-14T22:18:07.003Z"
   },
   {
    "duration": 10,
    "start_time": "2022-10-14T22:18:07.243Z"
   },
   {
    "duration": 191,
    "start_time": "2022-10-14T22:18:08.847Z"
   },
   {
    "duration": 283,
    "start_time": "2022-10-14T22:18:15.068Z"
   },
   {
    "duration": 6316,
    "start_time": "2022-10-14T22:18:19.004Z"
   },
   {
    "duration": 43,
    "start_time": "2022-10-14T22:19:12.121Z"
   },
   {
    "duration": 47,
    "start_time": "2022-10-14T22:19:12.490Z"
   },
   {
    "duration": 13,
    "start_time": "2022-10-14T22:19:12.679Z"
   },
   {
    "duration": 23,
    "start_time": "2022-10-14T22:19:12.879Z"
   },
   {
    "duration": 5,
    "start_time": "2022-10-14T22:19:13.070Z"
   },
   {
    "duration": 10,
    "start_time": "2022-10-14T22:19:13.262Z"
   },
   {
    "duration": 155,
    "start_time": "2022-10-14T22:19:14.433Z"
   },
   {
    "duration": 963,
    "start_time": "2022-10-14T22:19:17.535Z"
   },
   {
    "duration": 6805,
    "start_time": "2022-10-14T22:19:21.320Z"
   },
   {
    "duration": 824383,
    "start_time": "2022-10-14T22:19:45.874Z"
   },
   {
    "duration": 6966,
    "start_time": "2022-10-14T22:33:30.259Z"
   },
   {
    "duration": 1778724,
    "start_time": "2022-10-14T22:34:09.382Z"
   },
   {
    "duration": 4,
    "start_time": "2022-10-15T07:12:35.472Z"
   },
   {
    "duration": 10151000,
    "start_time": "2022-10-15T07:13:50.925Z"
   },
   {
    "duration": 5,
    "start_time": "2022-10-15T10:17:34.383Z"
   },
   {
    "duration": 7,
    "start_time": "2022-10-15T10:17:50.144Z"
   },
   {
    "duration": 379,
    "start_time": "2022-10-15T10:17:51.928Z"
   },
   {
    "duration": 1038,
    "start_time": "2022-10-15T10:18:25.658Z"
   },
   {
    "duration": 10,
    "start_time": "2022-10-15T10:18:40.243Z"
   },
   {
    "duration": 9,
    "start_time": "2022-10-15T10:18:49.076Z"
   },
   {
    "duration": 527,
    "start_time": "2022-10-15T10:18:55.735Z"
   },
   {
    "duration": 3883,
    "start_time": "2022-10-15T10:19:05.132Z"
   },
   {
    "duration": 961438,
    "start_time": "2022-10-15T10:20:37.203Z"
   },
   {
    "duration": 1138363,
    "start_time": "2022-10-15T11:05:31.540Z"
   },
   {
    "duration": 32,
    "start_time": "2022-10-15T11:28:53.276Z"
   },
   {
    "duration": 74236,
    "start_time": "2022-10-15T11:29:25.992Z"
   },
   {
    "duration": 83284,
    "start_time": "2022-10-15T11:31:36.337Z"
   },
   {
    "duration": 10,
    "start_time": "2022-10-15T11:33:16.538Z"
   },
   {
    "duration": 43,
    "start_time": "2022-10-15T11:33:42.210Z"
   },
   {
    "duration": 743,
    "start_time": "2022-10-15T11:33:48.899Z"
   },
   {
    "duration": 44752,
    "start_time": "2022-10-15T11:34:53.597Z"
   },
   {
    "duration": 697,
    "start_time": "2022-10-15T11:36:47.277Z"
   },
   {
    "duration": 727,
    "start_time": "2022-10-15T11:37:06.694Z"
   },
   {
    "duration": 717,
    "start_time": "2022-10-15T11:37:10.479Z"
   },
   {
    "duration": 735,
    "start_time": "2022-10-15T11:37:28.224Z"
   },
   {
    "duration": 1171,
    "start_time": "2022-10-15T11:37:43.156Z"
   },
   {
    "duration": 58446,
    "start_time": "2022-10-15T11:38:10.170Z"
   },
   {
    "duration": 33014,
    "start_time": "2022-10-15T11:39:21.935Z"
   },
   {
    "duration": 35432,
    "start_time": "2022-10-15T11:42:17.931Z"
   },
   {
    "duration": 60112,
    "start_time": "2022-10-15T11:44:28.668Z"
   },
   {
    "duration": 27848,
    "start_time": "2022-10-15T11:45:42.914Z"
   },
   {
    "duration": 23102,
    "start_time": "2022-10-15T11:47:06.432Z"
   },
   {
    "duration": 52962,
    "start_time": "2022-10-15T11:47:42.385Z"
   },
   {
    "duration": 95820,
    "start_time": "2022-10-15T11:49:10.280Z"
   },
   {
    "duration": 35490,
    "start_time": "2022-10-15T11:50:58.563Z"
   },
   {
    "duration": 10935,
    "start_time": "2022-10-15T11:52:05.099Z"
   },
   {
    "duration": 9,
    "start_time": "2022-10-15T12:02:00.903Z"
   },
   {
    "duration": 3,
    "start_time": "2022-10-15T12:02:06.967Z"
   },
   {
    "duration": 46,
    "start_time": "2022-10-15T12:02:34.025Z"
   },
   {
    "duration": 73,
    "start_time": "2022-10-15T12:02:36.978Z"
   },
   {
    "duration": 8,
    "start_time": "2022-10-15T12:03:38.252Z"
   },
   {
    "duration": 8,
    "start_time": "2022-10-15T12:03:45.091Z"
   },
   {
    "duration": 9,
    "start_time": "2022-10-15T12:03:56.788Z"
   },
   {
    "duration": 8,
    "start_time": "2022-10-15T12:03:59.133Z"
   },
   {
    "duration": 10,
    "start_time": "2022-10-15T12:04:04.284Z"
   },
   {
    "duration": 10,
    "start_time": "2022-10-15T12:05:34.866Z"
   },
   {
    "duration": 4,
    "start_time": "2022-10-15T12:05:36.916Z"
   },
   {
    "duration": 300,
    "start_time": "2022-10-15T12:05:37.291Z"
   },
   {
    "duration": 9,
    "start_time": "2022-10-15T12:05:57.220Z"
   },
   {
    "duration": 5,
    "start_time": "2022-10-15T12:06:00.116Z"
   },
   {
    "duration": 4,
    "start_time": "2022-10-15T12:06:23.014Z"
   },
   {
    "duration": 419,
    "start_time": "2022-10-15T12:06:23.615Z"
   },
   {
    "duration": 43,
    "start_time": "2022-10-15T12:06:48.513Z"
   },
   {
    "duration": 517,
    "start_time": "2022-10-15T12:06:53.930Z"
   },
   {
    "duration": 10,
    "start_time": "2022-10-15T12:06:57.057Z"
   },
   {
    "duration": 4,
    "start_time": "2022-10-15T12:07:44.131Z"
   },
   {
    "duration": 4,
    "start_time": "2022-10-15T12:08:07.477Z"
   },
   {
    "duration": 3,
    "start_time": "2022-10-15T12:08:31.255Z"
   },
   {
    "duration": 9,
    "start_time": "2022-10-15T12:08:49.449Z"
   },
   {
    "duration": 5,
    "start_time": "2022-10-15T12:08:55.595Z"
   },
   {
    "duration": 9116,
    "start_time": "2022-10-15T12:09:16.214Z"
   },
   {
    "duration": 11063,
    "start_time": "2022-10-15T12:09:38.158Z"
   },
   {
    "duration": 9726,
    "start_time": "2022-10-15T12:10:06.206Z"
   },
   {
    "duration": 24824,
    "start_time": "2022-10-15T12:10:47.650Z"
   },
   {
    "duration": 23518,
    "start_time": "2022-10-15T12:11:12.476Z"
   },
   {
    "duration": 11308,
    "start_time": "2022-10-15T12:11:35.996Z"
   },
   {
    "duration": 4237363,
    "start_time": "2022-10-15T12:12:20.968Z"
   },
   {
    "duration": 4,
    "start_time": "2022-10-15T13:22:58.334Z"
   },
   {
    "duration": 25,
    "start_time": "2022-10-15T13:22:58.339Z"
   },
   {
    "duration": 547,
    "start_time": "2022-10-15T13:22:58.367Z"
   },
   {
    "duration": 1623,
    "start_time": "2022-10-15T14:20:29.194Z"
   },
   {
    "duration": 49,
    "start_time": "2022-10-15T14:20:32.023Z"
   },
   {
    "duration": 11,
    "start_time": "2022-10-15T14:20:32.263Z"
   },
   {
    "duration": 24,
    "start_time": "2022-10-15T14:20:32.479Z"
   },
   {
    "duration": 6,
    "start_time": "2022-10-15T14:20:32.671Z"
   },
   {
    "duration": 12,
    "start_time": "2022-10-15T14:20:32.863Z"
   },
   {
    "duration": 182,
    "start_time": "2022-10-15T14:20:34.166Z"
   },
   {
    "duration": 994,
    "start_time": "2022-10-15T14:20:36.376Z"
   },
   {
    "duration": 7130,
    "start_time": "2022-10-15T14:20:39.191Z"
   },
   {
    "duration": 11180,
    "start_time": "2022-10-15T14:23:21.172Z"
   },
   {
    "duration": 2884256,
    "start_time": "2022-10-15T14:23:49.653Z"
   },
   {
    "duration": 5,
    "start_time": "2022-10-15T15:11:53.911Z"
   },
   {
    "duration": 19,
    "start_time": "2022-10-15T15:11:53.919Z"
   },
   {
    "duration": 4,
    "start_time": "2022-10-15T15:12:55.170Z"
   },
   {
    "duration": 9,
    "start_time": "2022-10-15T15:12:57.480Z"
   },
   {
    "duration": 552,
    "start_time": "2022-10-15T15:13:01.372Z"
   },
   {
    "duration": 6,
    "start_time": "2022-10-15T15:13:02.598Z"
   },
   {
    "duration": 7990,
    "start_time": "2022-10-15T15:15:37.237Z"
   },
   {
    "duration": 292,
    "start_time": "2022-10-15T15:15:45.230Z"
   },
   {
    "duration": 100,
    "start_time": "2022-10-15T15:15:45.524Z"
   },
   {
    "duration": 208,
    "start_time": "2022-10-15T15:15:45.627Z"
   },
   {
    "duration": 87,
    "start_time": "2022-10-15T15:15:45.837Z"
   },
   {
    "duration": 107,
    "start_time": "2022-10-15T15:15:45.927Z"
   },
   {
    "duration": 1300,
    "start_time": "2022-10-15T15:15:46.036Z"
   },
   {
    "duration": 5903,
    "start_time": "2022-10-15T15:15:47.421Z"
   },
   {
    "duration": 14697,
    "start_time": "2022-10-15T15:15:53.327Z"
   },
   {
    "duration": 6,
    "start_time": "2022-10-15T15:16:08.120Z"
   },
   {
    "duration": 1715,
    "start_time": "2022-10-15T15:16:08.128Z"
   },
   {
    "duration": 32905,
    "start_time": "2022-10-15T15:16:21.327Z"
   },
   {
    "duration": 36158,
    "start_time": "2022-10-15T15:29:01.588Z"
   },
   {
    "duration": 37246,
    "start_time": "2022-10-15T15:30:33.635Z"
   },
   {
    "duration": 31466,
    "start_time": "2022-10-15T15:34:11.833Z"
   },
   {
    "duration": 12203,
    "start_time": "2022-10-15T15:53:26.822Z"
   },
   {
    "duration": 595,
    "start_time": "2022-10-15T15:53:39.028Z"
   },
   {
    "duration": 198,
    "start_time": "2022-10-15T15:53:39.626Z"
   },
   {
    "duration": 298,
    "start_time": "2022-10-15T15:53:39.830Z"
   },
   {
    "duration": 93,
    "start_time": "2022-10-15T15:53:40.132Z"
   },
   {
    "duration": 109,
    "start_time": "2022-10-15T15:53:40.320Z"
   },
   {
    "duration": 1717,
    "start_time": "2022-10-15T15:53:40.520Z"
   },
   {
    "duration": 7805,
    "start_time": "2022-10-15T15:53:42.322Z"
   },
   {
    "duration": 13098,
    "start_time": "2022-10-15T15:53:50.130Z"
   },
   {
    "duration": 5,
    "start_time": "2022-10-15T15:54:03.322Z"
   },
   {
    "duration": 9607,
    "start_time": "2022-10-15T15:54:29.722Z"
   },
   {
    "duration": 304,
    "start_time": "2022-10-15T15:54:39.332Z"
   },
   {
    "duration": 94,
    "start_time": "2022-10-15T15:54:39.638Z"
   },
   {
    "duration": 400,
    "start_time": "2022-10-15T15:54:39.734Z"
   },
   {
    "duration": 90,
    "start_time": "2022-10-15T15:54:40.138Z"
   },
   {
    "duration": 192,
    "start_time": "2022-10-15T15:54:40.232Z"
   },
   {
    "duration": 1498,
    "start_time": "2022-10-15T15:54:40.428Z"
   },
   {
    "duration": 7193,
    "start_time": "2022-10-15T15:54:41.928Z"
   },
   {
    "duration": 14698,
    "start_time": "2022-10-15T15:54:49.124Z"
   },
   {
    "duration": 56,
    "start_time": "2022-10-15T15:55:08.966Z"
   },
   {
    "duration": 1799,
    "start_time": "2022-10-15T15:55:11.422Z"
   },
   {
    "duration": 34,
    "start_time": "2022-10-15T15:55:14.892Z"
   },
   {
    "duration": 6,
    "start_time": "2022-10-15T15:55:26.725Z"
   },
   {
    "duration": 4603,
    "start_time": "2022-10-15T16:23:38.030Z"
   },
   {
    "duration": 199,
    "start_time": "2022-10-15T16:23:42.637Z"
   },
   {
    "duration": 87,
    "start_time": "2022-10-15T16:23:42.837Z"
   },
   {
    "duration": 102,
    "start_time": "2022-10-15T16:23:42.926Z"
   },
   {
    "duration": 8,
    "start_time": "2022-10-15T16:23:43.031Z"
   },
   {
    "duration": 102,
    "start_time": "2022-10-15T16:23:43.042Z"
   },
   {
    "duration": 675,
    "start_time": "2022-10-15T16:23:43.147Z"
   },
   {
    "duration": 1644,
    "start_time": "2022-10-15T18:27:42.534Z"
   },
   {
    "duration": 43,
    "start_time": "2022-10-15T18:27:44.180Z"
   },
   {
    "duration": 12,
    "start_time": "2022-10-15T18:27:45.875Z"
   },
   {
    "duration": 20,
    "start_time": "2022-10-15T18:27:46.135Z"
   },
   {
    "duration": 5,
    "start_time": "2022-10-15T18:27:47.080Z"
   },
   {
    "duration": 10,
    "start_time": "2022-10-15T18:27:47.342Z"
   },
   {
    "duration": 149,
    "start_time": "2022-10-15T18:27:48.375Z"
   },
   {
    "duration": 925,
    "start_time": "2022-10-15T18:27:51.038Z"
   },
   {
    "duration": 6928,
    "start_time": "2022-10-15T18:27:53.758Z"
   },
   {
    "duration": 6,
    "start_time": "2022-10-15T18:28:00.688Z"
   },
   {
    "duration": 524,
    "start_time": "2022-10-15T18:28:02.156Z"
   },
   {
    "duration": 4492381,
    "start_time": "2022-10-15T18:28:07.006Z"
   },
   {
    "duration": 101,
    "start_time": "2022-10-15T19:43:34.574Z"
   },
   {
    "duration": 10,
    "start_time": "2022-10-15T19:43:42.558Z"
   },
   {
    "duration": 2414,
    "start_time": "2022-10-15T19:43:58.786Z"
   },
   {
    "duration": 57,
    "start_time": "2022-10-15T19:51:29.530Z"
   },
   {
    "duration": 50,
    "start_time": "2022-10-15T19:54:31.900Z"
   },
   {
    "duration": 50,
    "start_time": "2022-10-15T19:54:33.092Z"
   },
   {
    "duration": 13,
    "start_time": "2022-10-15T19:54:33.565Z"
   },
   {
    "duration": 10,
    "start_time": "2022-10-15T19:54:43.740Z"
   },
   {
    "duration": 20,
    "start_time": "2022-10-15T19:54:48.718Z"
   },
   {
    "duration": 12,
    "start_time": "2022-10-15T19:55:05.341Z"
   },
   {
    "duration": 14,
    "start_time": "2022-10-15T19:55:10.271Z"
   },
   {
    "duration": 100,
    "start_time": "2022-10-15T19:55:16.862Z"
   },
   {
    "duration": 8,
    "start_time": "2022-10-15T19:55:20.255Z"
   },
   {
    "duration": 118,
    "start_time": "2022-10-15T19:56:00.298Z"
   },
   {
    "duration": 10,
    "start_time": "2022-10-15T19:56:13.634Z"
   },
   {
    "duration": 5,
    "start_time": "2022-10-15T19:56:21.048Z"
   },
   {
    "duration": 115,
    "start_time": "2022-10-15T19:56:22.175Z"
   },
   {
    "duration": 50,
    "start_time": "2022-10-15T19:56:31.428Z"
   },
   {
    "duration": 40,
    "start_time": "2022-10-15T19:56:31.708Z"
   },
   {
    "duration": 11,
    "start_time": "2022-10-15T19:56:31.924Z"
   },
   {
    "duration": 20,
    "start_time": "2022-10-15T19:56:32.830Z"
   },
   {
    "duration": 9,
    "start_time": "2022-10-15T19:56:34.236Z"
   },
   {
    "duration": 12,
    "start_time": "2022-10-15T19:56:35.631Z"
   },
   {
    "duration": 124,
    "start_time": "2022-10-15T19:56:38.917Z"
   },
   {
    "duration": 116,
    "start_time": "2022-10-15T19:57:02.318Z"
   },
   {
    "duration": 131,
    "start_time": "2022-10-15T19:57:11.567Z"
   },
   {
    "duration": 335,
    "start_time": "2022-10-15T20:01:23.161Z"
   },
   {
    "duration": 109,
    "start_time": "2022-10-15T20:01:32.065Z"
   },
   {
    "duration": 113,
    "start_time": "2022-10-15T20:01:35.668Z"
   },
   {
    "duration": 121,
    "start_time": "2022-10-15T20:01:45.593Z"
   },
   {
    "duration": 112,
    "start_time": "2022-10-15T20:04:16.148Z"
   },
   {
    "duration": 132,
    "start_time": "2022-10-15T20:04:26.522Z"
   },
   {
    "duration": 10385,
    "start_time": "2022-10-15T20:05:05.849Z"
   },
   {
    "duration": 11297,
    "start_time": "2022-10-15T20:06:15.565Z"
   },
   {
    "duration": 6,
    "start_time": "2022-10-15T20:09:44.983Z"
   },
   {
    "duration": 2,
    "start_time": "2022-10-15T20:23:23.546Z"
   },
   {
    "duration": 103,
    "start_time": "2022-10-15T20:23:40.682Z"
   },
   {
    "duration": 83,
    "start_time": "2022-10-15T20:23:46.070Z"
   },
   {
    "duration": 156,
    "start_time": "2022-10-15T20:23:57.029Z"
   },
   {
    "duration": 131,
    "start_time": "2022-10-15T20:24:03.767Z"
   },
   {
    "duration": 7,
    "start_time": "2022-10-15T20:24:44.649Z"
   },
   {
    "duration": 4,
    "start_time": "2022-10-15T20:25:28.005Z"
   },
   {
    "duration": 5,
    "start_time": "2022-10-15T20:25:30.692Z"
   },
   {
    "duration": 4,
    "start_time": "2022-10-15T20:25:33.612Z"
   },
   {
    "duration": 4,
    "start_time": "2022-10-15T20:25:34.275Z"
   },
   {
    "duration": 4,
    "start_time": "2022-10-15T20:25:34.987Z"
   },
   {
    "duration": 7,
    "start_time": "2022-10-15T20:25:35.547Z"
   },
   {
    "duration": 4,
    "start_time": "2022-10-15T20:25:36.997Z"
   },
   {
    "duration": 4,
    "start_time": "2022-10-15T20:25:43.237Z"
   },
   {
    "duration": 6,
    "start_time": "2022-10-15T20:36:05.934Z"
   },
   {
    "duration": 5,
    "start_time": "2022-10-15T20:37:21.203Z"
   },
   {
    "duration": 71,
    "start_time": "2022-10-15T20:37:35.868Z"
   },
   {
    "duration": 8,
    "start_time": "2022-10-15T20:37:39.241Z"
   },
   {
    "duration": 6,
    "start_time": "2022-10-15T20:37:41.181Z"
   },
   {
    "duration": 5,
    "start_time": "2022-10-15T20:37:41.963Z"
   },
   {
    "duration": 5,
    "start_time": "2022-10-15T20:37:43.061Z"
   },
   {
    "duration": 6,
    "start_time": "2022-10-15T20:37:44.356Z"
   },
   {
    "duration": 7,
    "start_time": "2022-10-15T20:39:17.729Z"
   },
   {
    "duration": 21,
    "start_time": "2022-10-15T20:39:29.724Z"
   },
   {
    "duration": 8,
    "start_time": "2022-10-15T20:40:11.479Z"
   },
   {
    "duration": 4,
    "start_time": "2022-10-15T20:41:13.836Z"
   },
   {
    "duration": 116,
    "start_time": "2022-10-15T20:42:04.799Z"
   },
   {
    "duration": 130,
    "start_time": "2022-10-15T20:42:15.774Z"
   },
   {
    "duration": 433,
    "start_time": "2022-10-15T20:49:44.983Z"
   },
   {
    "duration": 11,
    "start_time": "2022-10-15T20:49:46.032Z"
   },
   {
    "duration": 6,
    "start_time": "2022-10-15T20:58:27.362Z"
   },
   {
    "duration": 4,
    "start_time": "2022-10-15T20:58:33.251Z"
   },
   {
    "duration": 9,
    "start_time": "2022-10-15T20:59:08.392Z"
   },
   {
    "duration": 51,
    "start_time": "2022-10-15T20:59:15.483Z"
   },
   {
    "duration": 272,
    "start_time": "2022-10-15T20:59:19.352Z"
   },
   {
    "duration": 1080,
    "start_time": "2022-10-15T20:59:52.008Z"
   },
   {
    "duration": 8,
    "start_time": "2022-10-15T21:02:18.915Z"
   },
   {
    "duration": 50,
    "start_time": "2022-10-15T21:02:24.532Z"
   },
   {
    "duration": 8,
    "start_time": "2022-10-15T21:02:28.804Z"
   },
   {
    "duration": 9,
    "start_time": "2022-10-15T21:02:35.775Z"
   },
   {
    "duration": 9,
    "start_time": "2022-10-15T21:03:22.098Z"
   },
   {
    "duration": 8,
    "start_time": "2022-10-15T21:04:06.731Z"
   },
   {
    "duration": 9,
    "start_time": "2022-10-15T21:04:12.003Z"
   },
   {
    "duration": 8,
    "start_time": "2022-10-15T21:04:32.588Z"
   },
   {
    "duration": 4,
    "start_time": "2022-10-15T21:04:40.887Z"
   },
   {
    "duration": 62,
    "start_time": "2022-10-15T21:05:01.560Z"
   },
   {
    "duration": 1120,
    "start_time": "2022-10-15T21:05:46.125Z"
   },
   {
    "duration": 3861,
    "start_time": "2022-10-15T21:07:19.561Z"
   },
   {
    "duration": 3857,
    "start_time": "2022-10-15T21:07:30.402Z"
   },
   {
    "duration": 4020,
    "start_time": "2022-10-15T21:10:07.325Z"
   },
   {
    "duration": 3943,
    "start_time": "2022-10-15T21:10:32.882Z"
   },
   {
    "duration": 741,
    "start_time": "2022-10-15T21:10:54.419Z"
   },
   {
    "duration": 3964,
    "start_time": "2022-10-15T21:15:58.950Z"
   },
   {
    "duration": 4110,
    "start_time": "2022-10-15T21:16:28.449Z"
   },
   {
    "duration": 3983,
    "start_time": "2022-10-15T21:16:49.402Z"
   },
   {
    "duration": 4026,
    "start_time": "2022-10-15T21:17:12.374Z"
   },
   {
    "duration": 3940,
    "start_time": "2022-10-15T21:21:42.206Z"
   },
   {
    "duration": 3852,
    "start_time": "2022-10-15T21:21:47.710Z"
   },
   {
    "duration": 416,
    "start_time": "2022-10-15T21:24:30.403Z"
   },
   {
    "duration": 3925,
    "start_time": "2022-10-15T21:24:59.206Z"
   },
   {
    "duration": 4067,
    "start_time": "2022-10-15T21:25:08.015Z"
   },
   {
    "duration": 4072,
    "start_time": "2022-10-15T21:25:58.708Z"
   },
   {
    "duration": 3906,
    "start_time": "2022-10-15T21:26:10.137Z"
   },
   {
    "duration": 4182,
    "start_time": "2022-10-15T21:26:15.885Z"
   },
   {
    "duration": 507,
    "start_time": "2022-10-15T21:27:06.006Z"
   },
   {
    "duration": 4335,
    "start_time": "2022-10-15T21:27:15.830Z"
   },
   {
    "duration": 1362,
    "start_time": "2022-10-15T21:32:49.620Z"
   },
   {
    "duration": 42,
    "start_time": "2022-10-15T21:32:50.984Z"
   },
   {
    "duration": 9,
    "start_time": "2022-10-15T21:32:51.028Z"
   },
   {
    "duration": 12,
    "start_time": "2022-10-15T21:32:51.039Z"
   },
   {
    "duration": 152,
    "start_time": "2022-10-15T21:32:51.053Z"
   },
   {
    "duration": 9,
    "start_time": "2022-10-15T21:32:51.207Z"
   },
   {
    "duration": 154,
    "start_time": "2022-10-15T21:32:51.218Z"
   },
   {
    "duration": 950,
    "start_time": "2022-10-15T21:32:51.373Z"
   },
   {
    "duration": 6764,
    "start_time": "2022-10-15T21:32:52.325Z"
   },
   {
    "duration": 2618943,
    "start_time": "2022-10-15T21:32:59.092Z"
   },
   {
    "duration": 4,
    "start_time": "2022-10-15T22:16:38.037Z"
   },
   {
    "duration": 516,
    "start_time": "2022-10-15T22:16:38.042Z"
   },
   {
    "duration": 4551442,
    "start_time": "2022-10-15T22:16:38.560Z"
   },
   {
    "duration": 6594,
    "start_time": "2022-10-15T23:32:30.003Z"
   },
   {
    "duration": 8056,
    "start_time": "2022-10-16T07:59:29.986Z"
   },
   {
    "duration": 51,
    "start_time": "2022-10-16T10:29:50.596Z"
   },
   {
    "duration": 49,
    "start_time": "2022-10-16T10:33:28.469Z"
   },
   {
    "duration": 52,
    "start_time": "2022-10-16T10:34:23.615Z"
   },
   {
    "duration": 285,
    "start_time": "2022-10-16T10:35:12.074Z"
   },
   {
    "duration": 631,
    "start_time": "2022-10-16T10:35:37.044Z"
   },
   {
    "duration": 11,
    "start_time": "2022-10-16T10:35:41.741Z"
   },
   {
    "duration": 136,
    "start_time": "2022-10-16T10:35:55.040Z"
   },
   {
    "duration": 25,
    "start_time": "2022-10-16T10:35:59.807Z"
   },
   {
    "duration": 1293,
    "start_time": "2022-10-16T10:36:36.344Z"
   },
   {
    "duration": 35,
    "start_time": "2022-10-16T10:38:45.922Z"
   },
   {
    "duration": 1380,
    "start_time": "2022-10-16T10:38:48.289Z"
   },
   {
    "duration": 2396,
    "start_time": "2022-10-16T10:39:18.102Z"
   },
   {
    "duration": 1846,
    "start_time": "2022-10-16T10:39:32.533Z"
   },
   {
    "duration": 355,
    "start_time": "2022-10-16T10:40:25.170Z"
   },
   {
    "duration": 1345,
    "start_time": "2022-10-16T10:40:30.202Z"
   },
   {
    "duration": 4,
    "start_time": "2022-10-16T10:43:54.401Z"
   },
   {
    "duration": 8,
    "start_time": "2022-10-16T10:44:52.332Z"
   },
   {
    "duration": 4,
    "start_time": "2022-10-16T10:44:56.589Z"
   },
   {
    "duration": 140,
    "start_time": "2022-10-16T10:45:06.852Z"
   },
   {
    "duration": 37,
    "start_time": "2022-10-16T10:45:13.335Z"
   },
   {
    "duration": 3,
    "start_time": "2022-10-16T10:45:24.111Z"
   },
   {
    "duration": 106,
    "start_time": "2022-10-16T10:45:27.479Z"
   },
   {
    "duration": 17,
    "start_time": "2022-10-16T10:45:30.822Z"
   },
   {
    "duration": 51,
    "start_time": "2022-10-16T10:46:19.314Z"
   },
   {
    "duration": 37,
    "start_time": "2022-10-16T10:46:20.060Z"
   },
   {
    "duration": 9,
    "start_time": "2022-10-16T10:46:20.276Z"
   },
   {
    "duration": 11,
    "start_time": "2022-10-16T10:46:20.473Z"
   },
   {
    "duration": 118,
    "start_time": "2022-10-16T10:46:23.298Z"
   },
   {
    "duration": 10,
    "start_time": "2022-10-16T10:46:24.746Z"
   },
   {
    "duration": 139,
    "start_time": "2022-10-16T10:46:26.731Z"
   },
   {
    "duration": 34,
    "start_time": "2022-10-16T10:46:28.754Z"
   },
   {
    "duration": 18,
    "start_time": "2022-10-16T10:46:30.651Z"
   },
   {
    "duration": 17,
    "start_time": "2022-10-16T10:46:40.035Z"
   },
   {
    "duration": 5,
    "start_time": "2022-10-16T10:47:06.045Z"
   },
   {
    "duration": 19,
    "start_time": "2022-10-16T10:47:09.076Z"
   },
   {
    "duration": 1387,
    "start_time": "2022-10-16T10:49:31.319Z"
   },
   {
    "duration": 880,
    "start_time": "2022-10-16T10:49:42.873Z"
   },
   {
    "duration": 1055,
    "start_time": "2022-10-16T10:49:52.953Z"
   },
   {
    "duration": 1099,
    "start_time": "2022-10-16T10:49:56.898Z"
   },
   {
    "duration": 1156,
    "start_time": "2022-10-16T10:50:07.100Z"
   },
   {
    "duration": 1317,
    "start_time": "2022-10-16T10:50:12.444Z"
   },
   {
    "duration": 1319,
    "start_time": "2022-10-16T10:50:18.036Z"
   },
   {
    "duration": 1342,
    "start_time": "2022-10-16T10:50:30.486Z"
   },
   {
    "duration": 1340,
    "start_time": "2022-10-16T10:50:42.004Z"
   },
   {
    "duration": 110,
    "start_time": "2022-10-16T10:52:55.878Z"
   },
   {
    "duration": 322778,
    "start_time": "2022-10-16T10:54:50.720Z"
   },
   {
    "duration": 4,
    "start_time": "2022-10-16T11:02:02.445Z"
   },
   {
    "duration": 9,
    "start_time": "2022-10-16T11:02:02.856Z"
   },
   {
    "duration": 1349,
    "start_time": "2022-10-16T11:02:25.856Z"
   },
   {
    "duration": 37,
    "start_time": "2022-10-16T11:02:27.207Z"
   },
   {
    "duration": 7,
    "start_time": "2022-10-16T11:02:27.245Z"
   },
   {
    "duration": 17,
    "start_time": "2022-10-16T11:02:27.253Z"
   },
   {
    "duration": 143,
    "start_time": "2022-10-16T11:02:27.272Z"
   },
   {
    "duration": 9,
    "start_time": "2022-10-16T11:02:27.422Z"
   },
   {
    "duration": 147,
    "start_time": "2022-10-16T11:02:27.432Z"
   },
   {
    "duration": 42,
    "start_time": "2022-10-16T11:02:27.581Z"
   },
   {
    "duration": 1409,
    "start_time": "2022-10-16T11:02:27.625Z"
   },
   {
    "duration": 181868,
    "start_time": "2022-10-16T11:02:29.037Z"
   },
   {
    "duration": 3,
    "start_time": "2022-10-16T11:05:30.907Z"
   },
   {
    "duration": 41,
    "start_time": "2022-10-16T11:05:30.912Z"
   },
   {
    "duration": 246987,
    "start_time": "2022-10-16T11:05:30.954Z"
   },
   {
    "duration": 2831,
    "start_time": "2022-10-16T11:09:37.943Z"
   },
   {
    "duration": 66,
    "start_time": "2022-10-16T11:09:40.777Z"
   }
  ],
  "kernelspec": {
   "display_name": "Python 3 (ipykernel)",
   "language": "python",
   "name": "python3"
  },
  "language_info": {
   "codemirror_mode": {
    "name": "ipython",
    "version": 3
   },
   "file_extension": ".py",
   "mimetype": "text/x-python",
   "name": "python",
   "nbconvert_exporter": "python",
   "pygments_lexer": "ipython3",
   "version": "3.9.13"
  },
  "toc": {
   "base_numbering": 1,
   "nav_menu": {},
   "number_sections": true,
   "sideBar": true,
   "skip_h1_title": true,
   "title_cell": "Содержание",
   "title_sidebar": "Contents",
   "toc_cell": true,
   "toc_position": {
    "height": "calc(100% - 180px)",
    "left": "10px",
    "top": "150px",
    "width": "281px"
   },
   "toc_section_display": true,
   "toc_window_display": true
  }
 },
 "nbformat": 4,
 "nbformat_minor": 4
}
